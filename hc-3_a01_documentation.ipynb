{
 "cells": [
  {
   "cell_type": "code",
   "execution_count": 1,
   "metadata": {},
   "outputs": [],
   "source": [
    "import os\n",
    "import sqlite3\n",
    "import pandas as pd"
   ]
  },
  {
   "cell_type": "code",
   "execution_count": 2,
   "metadata": {},
   "outputs": [],
   "source": [
    "dataset_directory = 'data/hc-3'\n",
    "docs_directory = os.path.join(dataset_directory,'docs')"
   ]
  },
  {
   "cell_type": "markdown",
   "metadata": {},
   "source": [
    "#### Loading"
   ]
  },
  {
   "cell_type": "code",
   "execution_count": 3,
   "metadata": {},
   "outputs": [],
   "source": [
    "original_directory = os.path.join(docs_directory,'hc3-original-docs')\n",
    "original_db_filepath = os.path.join(original_directory,'hc3.db')\n",
    "original_db_connection = sqlite3.connect(original_db_filepath)\n",
    "original_db_dataframe = pd.read_sql_query(\"SELECT * FROM sqlite_master\", original_db_connection)\n",
    "original_db = {}\n",
    "\n",
    "for table_name in original_db_dataframe['tbl_name']:\n",
    "    df = pd.read_sql_query('SELECT * from %s' % table_name, original_db_connection)\n",
    "    df = df.fillna(value='')\n",
    "    df = df.replace('\"\"','')\n",
    "    df = df.replace('None','')\n",
    "    \n",
    "    original_db[table_name] = df\n",
    "\n",
    "original_db_connection.close()"
   ]
  },
  {
   "cell_type": "markdown",
   "metadata": {},
   "source": [
    "#### Binding"
   ]
  },
  {
   "cell_type": "markdown",
   "metadata": {},
   "source": [
    "##### Behavior"
   ]
  },
  {
   "cell_type": "code",
   "execution_count": 4,
   "metadata": {},
   "outputs": [],
   "source": [
    "original_db['hc3_mpg'].columns = ['id_mpg','topdir','session']\n",
    "original_db['animal'].columns = ['id_animal','animal']\n",
    "original_db['hc3_session'].columns = ['id_session', 'topdir', 'session', 'session_size']\n",
    "original_db['video_files'].columns = ['topdir', 'session', 'video_file', 'video_size']\n",
    "original_db['map_cell_counts'].columns = ['topdir','mc_ncells']\n",
    "original_db['clu_cell_counts'].columns = ['topdir','nshanks','cc_ncells']"
   ]
  },
  {
   "cell_type": "code",
   "execution_count": 5,
   "metadata": {},
   "outputs": [],
   "source": [
    "original_db['elepos']['elepos'] = [{e+1:entry for e,entry in enumerate(values) if entry != ''} for values in original_db['elepos'].iloc[:,4:].values]\n",
    "original_db['elepos'].drop(original_db['elepos'].columns[4:-1],axis=1,inplace=True)"
   ]
  },
  {
   "cell_type": "code",
   "execution_count": 6,
   "metadata": {},
   "outputs": [],
   "source": [
    "df = original_db['beh'].copy()\n",
    "\n",
    "df = df.merge(original_db['video_files'],how='left',on=['topdir','session'])\n",
    "df = df.merge(original_db['hc3_session'],how='left',on=['topdir','session'])\n",
    "df = df.merge(original_db['hc3_topdir'],how='left',on=['topdir'])\n",
    "df = df.merge(original_db['animal'],how='left',on=['animal'])\n",
    "df = df.merge(original_db['hc3_mpg'],how='left',on=['topdir','session'])\n",
    "df = df.merge(original_db['map_cell_counts'],how='left',on=['topdir'])\n",
    "df = df.merge(original_db['clu_cell_counts'],how='left',on=['topdir'])\n",
    "df = df.merge(original_db['elepos'],how='left',on=['topdir','mergen','unit'])\n",
    "\n",
    "doc_behavior = df.dropna(subset=['id_session'])"
   ]
  },
  {
   "cell_type": "markdown",
   "metadata": {},
   "source": [
    "##### Electrophysiology"
   ]
  },
  {
   "cell_type": "code",
   "execution_count": 7,
   "metadata": {},
   "outputs": [],
   "source": [
    "region_dict = {a:b for a,b in original_db['region_name'].iloc}\n",
    "original_db['region']['region'] = original_db['region']['region_id'].map(region_dict)"
   ]
  },
  {
   "cell_type": "code",
   "execution_count": 8,
   "metadata": {},
   "outputs": [],
   "source": [
    "original_db['iCell'].columns = ['id','pyramidal','interneuron','nor_pyr_int','pyramidal_ccg','interneuron_ccg']"
   ]
  },
  {
   "cell_type": "code",
   "execution_count": 9,
   "metadata": {},
   "outputs": [],
   "source": [
    "df = original_db['pmMap'].copy()\n",
    "\n",
    "df = df.merge(original_db['region_pm1943'],on=['id'])\n",
    "df = df.merge(original_db['region_elepos'],on=['id'])\n",
    "df = df.merge(original_db['region'],on=['id'])\n",
    "df = df.merge(original_db['clean'],on=['id'])\n",
    "df = df.merge(original_db['iCell'],on=['id'])\n",
    "\n",
    "df['to_remove'] = 0\n",
    "for fileid, ele, clu in original_db['to_remove'].iloc:\n",
    "    id1 = df['FileID'].values == fileid \n",
    "    id2 = df['ele'] == ele\n",
    "    id3 = df['clu'] == clu\n",
    "    df.loc[id1 & id2.values & id3.values,'to_remove'] = 1\n",
    "\n",
    "df = df.merge(original_db['elepos'][['topdir','mergen','fileid']],how='left',left_on=['FileID'],right_on=['fileid'])\n",
    "df = df[df['mergen'].isin(doc_behavior['mergen'])]\n",
    "df = df[df['good'] == 1]\n",
    "\n",
    "doc_ephys = df"
   ]
  },
  {
   "cell_type": "code",
   "execution_count": 16,
   "metadata": {},
   "outputs": [],
   "source": [
    "doc_ephys.reset_index(drop=True,inplace=True)"
   ]
  },
  {
   "cell_type": "code",
   "execution_count": 25,
   "metadata": {},
   "outputs": [],
   "source": [
    "doc_ephys_animals = []\n",
    "doc_ephys_sessions = []\n",
    "doc_ephys_behaviors = []\n",
    "for entry in doc_ephys.iloc:\n",
    "    id_session = doc_behavior['mergen'] == entry['mergen']\n",
    "    behaviors = doc_behavior[id_session]['behavior'].values\n",
    "    sessions = doc_behavior[id_session]['session'].values\n",
    "    animal = doc_behavior[id_session]['animal'].unique()[0]\n",
    "    \n",
    "    doc_ephys_animals.append(animal)\n",
    "    doc_ephys_sessions.append(sessions)\n",
    "    doc_ephys_behaviors.append(behaviors)\n",
    "\n",
    "doc_ephys['behaviors'] = doc_ephys_behaviors\n",
    "doc_ephys['sessions'] = doc_ephys_sessions\n",
    "doc_ephys['animal'] = doc_ephys_animals"
   ]
  },
  {
   "cell_type": "code",
   "execution_count": 26,
   "metadata": {},
   "outputs": [
    {
     "name": "stdout",
     "output_type": "stream",
     "text": [
      "Stored 'doc_behavior' (DataFrame)\n",
      "Stored 'doc_ephys' (DataFrame)\n"
     ]
    }
   ],
   "source": [
    "%store doc_behavior\n",
    "%store doc_ephys"
   ]
  }
 ],
 "metadata": {
  "kernelspec": {
   "display_name": "base",
   "language": "python",
   "name": "python3"
  },
  "language_info": {
   "codemirror_mode": {
    "name": "ipython",
    "version": 3
   },
   "file_extension": ".py",
   "mimetype": "text/x-python",
   "name": "python",
   "nbconvert_exporter": "python",
   "pygments_lexer": "ipython3",
   "version": "3.11.5"
  }
 },
 "nbformat": 4,
 "nbformat_minor": 2
}
