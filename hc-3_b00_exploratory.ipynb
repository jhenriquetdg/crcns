{
 "cells": [
  {
   "cell_type": "code",
   "execution_count": 286,
   "metadata": {},
   "outputs": [],
   "source": [
    "%store -r doc_behavior \n",
    "%store -r doc_ephys"
   ]
  },
  {
   "cell_type": "code",
   "execution_count": 293,
   "metadata": {},
   "outputs": [
    {
     "ename": "SyntaxError",
     "evalue": "invalid syntax (3462966608.py, line 6)",
     "output_type": "error",
     "traceback": [
      "\u001b[0;36m  Cell \u001b[0;32mIn[293], line 6\u001b[0;36m\u001b[0m\n\u001b[0;31m    doc_ephys.loc[ , 'behaviors'] = list(group['behavior'].values)\u001b[0m\n\u001b[0m                   ^\u001b[0m\n\u001b[0;31mSyntaxError\u001b[0m\u001b[0;31m:\u001b[0m invalid syntax\n"
     ]
    }
   ],
   "source": [
    "for g,group in doc_behavior.groupby('mergen'):\n",
    "    id_mergen = doc_ephys['mergen'] == g\n",
    "    \n",
    "    count = np.sum(id_mergen)\n",
    "\n",
    "    doc_ephys.loc[id_mergen,'behaviors'] = [list(group['behavior'].values)]*count\n",
    "    doc_ephys.loc[id_mergen,'sessions'] = [list(group['session'].values)]*count\n",
    "    doc_ephys.loc[id_mergen,'animal'] = [group['animal'].unique()[0]]*count\n",
    "    break"
   ]
  },
  {
   "cell_type": "code",
   "execution_count": 3,
   "metadata": {},
   "outputs": [],
   "source": [
    "import plotly.express as px"
   ]
  },
  {
   "cell_type": "code",
   "execution_count": 10,
   "metadata": {},
   "outputs": [
    {
     "data": {
      "text/html": [
       "<div>\n",
       "<style scoped>\n",
       "    .dataframe tbody tr th:only-of-type {\n",
       "        vertical-align: middle;\n",
       "    }\n",
       "\n",
       "    .dataframe tbody tr th {\n",
       "        vertical-align: top;\n",
       "    }\n",
       "\n",
       "    .dataframe thead th {\n",
       "        text-align: right;\n",
       "    }\n",
       "</style>\n",
       "<table border=\"1\" class=\"dataframe\">\n",
       "  <thead>\n",
       "    <tr style=\"text-align: right;\">\n",
       "      <th></th>\n",
       "      <th>205</th>\n",
       "      <th>255</th>\n",
       "      <th>724</th>\n",
       "      <th>89</th>\n",
       "      <th>36</th>\n",
       "    </tr>\n",
       "  </thead>\n",
       "  <tbody>\n",
       "    <tr>\n",
       "      <th>id</th>\n",
       "      <td>206</td>\n",
       "      <td>256</td>\n",
       "      <td>725</td>\n",
       "      <td>90</td>\n",
       "      <td>37</td>\n",
       "    </tr>\n",
       "    <tr>\n",
       "      <th>topdir</th>\n",
       "      <td>ec012ec.24</td>\n",
       "      <td>ec013.18</td>\n",
       "      <td>ec013.53</td>\n",
       "      <td>ec012ec.16</td>\n",
       "      <td>ec012ec.13</td>\n",
       "    </tr>\n",
       "    <tr>\n",
       "      <th>mergen</th>\n",
       "      <td>ec012ec.495-506</td>\n",
       "      <td>ec013.194_213</td>\n",
       "      <td>ec013.931_942</td>\n",
       "      <td>ec012ec.304-319</td>\n",
       "      <td>ec012ec.220-246</td>\n",
       "    </tr>\n",
       "    <tr>\n",
       "      <th>unit</th>\n",
       "      <td>unit6</td>\n",
       "      <td>unit6</td>\n",
       "      <td>unit2</td>\n",
       "      <td>unit6</td>\n",
       "      <td>unit6</td>\n",
       "    </tr>\n",
       "    <tr>\n",
       "      <th>session</th>\n",
       "      <td>ec012ec.498</td>\n",
       "      <td>ec013.198</td>\n",
       "      <td>ec013.937</td>\n",
       "      <td>ec012ec.311</td>\n",
       "      <td>ec012ec.229</td>\n",
       "    </tr>\n",
       "    <tr>\n",
       "      <th>behavior</th>\n",
       "      <td>bigSquare</td>\n",
       "      <td>bigSquare</td>\n",
       "      <td>bigSquare</td>\n",
       "      <td>Mwheel</td>\n",
       "      <td>bigSquare</td>\n",
       "    </tr>\n",
       "    <tr>\n",
       "      <th>familiarity</th>\n",
       "      <td>10</td>\n",
       "      <td>10</td>\n",
       "      <td>10</td>\n",
       "      <td>10</td>\n",
       "      <td>10</td>\n",
       "    </tr>\n",
       "    <tr>\n",
       "      <th>duration</th>\n",
       "      <td>1157.5</td>\n",
       "      <td>1563.9</td>\n",
       "      <td>1322.8</td>\n",
       "      <td>368.5</td>\n",
       "      <td>1162.0</td>\n",
       "    </tr>\n",
       "    <tr>\n",
       "      <th>problem</th>\n",
       "      <td></td>\n",
       "      <td></td>\n",
       "      <td></td>\n",
       "      <td></td>\n",
       "      <td></td>\n",
       "    </tr>\n",
       "    <tr>\n",
       "      <th>video_file</th>\n",
       "      <td>ec012ec.498.m1v</td>\n",
       "      <td>NaN</td>\n",
       "      <td>NaN</td>\n",
       "      <td>NaN</td>\n",
       "      <td>ec012ec.229.m1v</td>\n",
       "    </tr>\n",
       "    <tr>\n",
       "      <th>video_size</th>\n",
       "      <td>102828296.0</td>\n",
       "      <td>NaN</td>\n",
       "      <td>NaN</td>\n",
       "      <td>NaN</td>\n",
       "      <td>103475603.0</td>\n",
       "    </tr>\n",
       "    <tr>\n",
       "      <th>id_session</th>\n",
       "      <td>57.0</td>\n",
       "      <td>73.0</td>\n",
       "      <td>257.0</td>\n",
       "      <td>24.0</td>\n",
       "      <td>11.0</td>\n",
       "    </tr>\n",
       "    <tr>\n",
       "      <th>session_size</th>\n",
       "      <td>326316024.0</td>\n",
       "      <td>493779544.0</td>\n",
       "      <td>485229484.0</td>\n",
       "      <td>89064580.0</td>\n",
       "      <td>364172408.0</td>\n",
       "    </tr>\n",
       "    <tr>\n",
       "      <th>animal</th>\n",
       "      <td>ec012</td>\n",
       "      <td>ec013</td>\n",
       "      <td>ec013</td>\n",
       "      <td>ec012</td>\n",
       "      <td>ec012</td>\n",
       "    </tr>\n",
       "    <tr>\n",
       "      <th>id_animal</th>\n",
       "      <td>1.0</td>\n",
       "      <td>2.0</td>\n",
       "      <td>2.0</td>\n",
       "      <td>1.0</td>\n",
       "      <td>1.0</td>\n",
       "    </tr>\n",
       "    <tr>\n",
       "      <th>id_mpg</th>\n",
       "      <td>NaN</td>\n",
       "      <td>NaN</td>\n",
       "      <td>NaN</td>\n",
       "      <td>NaN</td>\n",
       "      <td>NaN</td>\n",
       "    </tr>\n",
       "    <tr>\n",
       "      <th>mc_ncells</th>\n",
       "      <td>14.0</td>\n",
       "      <td>94.0</td>\n",
       "      <td>74.0</td>\n",
       "      <td>19.0</td>\n",
       "      <td>27.0</td>\n",
       "    </tr>\n",
       "    <tr>\n",
       "      <th>nshanks</th>\n",
       "      <td>4.0</td>\n",
       "      <td>8.0</td>\n",
       "      <td>8.0</td>\n",
       "      <td>4.0</td>\n",
       "      <td>4.0</td>\n",
       "    </tr>\n",
       "    <tr>\n",
       "      <th>cc_ncells</th>\n",
       "      <td>22.0</td>\n",
       "      <td>110.0</td>\n",
       "      <td>90.0</td>\n",
       "      <td>27.0</td>\n",
       "      <td>35.0</td>\n",
       "    </tr>\n",
       "    <tr>\n",
       "      <th>fileid</th>\n",
       "      <td>10025</td>\n",
       "      <td>20018</td>\n",
       "      <td>20053</td>\n",
       "      <td>10016</td>\n",
       "      <td>10013</td>\n",
       "    </tr>\n",
       "    <tr>\n",
       "      <th>elepos</th>\n",
       "      <td>{1: 'EC3', 2: 'EC3', 3: 'EC5', 4: 'EC5'}</td>\n",
       "      <td>{1: 'EC3', 2: 'EC4', 3: 'EC5', 4: 'EC5', 5: 'C...</td>\n",
       "      <td>{1: 'EC2', 2: 'EC3', 3: 'EC4', 4: 'EC5', 5: 'C...</td>\n",
       "      <td>{1: 'EC3', 2: 'EC3', 3: 'EC5', 4: 'EC5'}</td>\n",
       "      <td>{1: 'EC3', 2: 'EC3', 3: 'EC5', 4: 'EC5'}</td>\n",
       "    </tr>\n",
       "  </tbody>\n",
       "</table>\n",
       "</div>"
      ],
      "text/plain": [
       "                                                   205  \\\n",
       "id                                                 206   \n",
       "topdir                                      ec012ec.24   \n",
       "mergen                                 ec012ec.495-506   \n",
       "unit                                             unit6   \n",
       "session                                    ec012ec.498   \n",
       "behavior                                     bigSquare   \n",
       "familiarity                                         10   \n",
       "duration                                        1157.5   \n",
       "problem                                                  \n",
       "video_file                             ec012ec.498.m1v   \n",
       "video_size                                 102828296.0   \n",
       "id_session                                        57.0   \n",
       "session_size                               326316024.0   \n",
       "animal                                           ec012   \n",
       "id_animal                                          1.0   \n",
       "id_mpg                                             NaN   \n",
       "mc_ncells                                         14.0   \n",
       "nshanks                                            4.0   \n",
       "cc_ncells                                         22.0   \n",
       "fileid                                           10025   \n",
       "elepos        {1: 'EC3', 2: 'EC3', 3: 'EC5', 4: 'EC5'}   \n",
       "\n",
       "                                                            255  \\\n",
       "id                                                          256   \n",
       "topdir                                                 ec013.18   \n",
       "mergen                                            ec013.194_213   \n",
       "unit                                                      unit6   \n",
       "session                                               ec013.198   \n",
       "behavior                                              bigSquare   \n",
       "familiarity                                                  10   \n",
       "duration                                                 1563.9   \n",
       "problem                                                           \n",
       "video_file                                                  NaN   \n",
       "video_size                                                  NaN   \n",
       "id_session                                                 73.0   \n",
       "session_size                                        493779544.0   \n",
       "animal                                                    ec013   \n",
       "id_animal                                                   2.0   \n",
       "id_mpg                                                      NaN   \n",
       "mc_ncells                                                  94.0   \n",
       "nshanks                                                     8.0   \n",
       "cc_ncells                                                 110.0   \n",
       "fileid                                                    20018   \n",
       "elepos        {1: 'EC3', 2: 'EC4', 3: 'EC5', 4: 'EC5', 5: 'C...   \n",
       "\n",
       "                                                            724  \\\n",
       "id                                                          725   \n",
       "topdir                                                 ec013.53   \n",
       "mergen                                            ec013.931_942   \n",
       "unit                                                      unit2   \n",
       "session                                               ec013.937   \n",
       "behavior                                              bigSquare   \n",
       "familiarity                                                  10   \n",
       "duration                                                 1322.8   \n",
       "problem                                                           \n",
       "video_file                                                  NaN   \n",
       "video_size                                                  NaN   \n",
       "id_session                                                257.0   \n",
       "session_size                                        485229484.0   \n",
       "animal                                                    ec013   \n",
       "id_animal                                                   2.0   \n",
       "id_mpg                                                      NaN   \n",
       "mc_ncells                                                  74.0   \n",
       "nshanks                                                     8.0   \n",
       "cc_ncells                                                  90.0   \n",
       "fileid                                                    20053   \n",
       "elepos        {1: 'EC2', 2: 'EC3', 3: 'EC4', 4: 'EC5', 5: 'C...   \n",
       "\n",
       "                                                   89   \\\n",
       "id                                                  90   \n",
       "topdir                                      ec012ec.16   \n",
       "mergen                                 ec012ec.304-319   \n",
       "unit                                             unit6   \n",
       "session                                    ec012ec.311   \n",
       "behavior                                        Mwheel   \n",
       "familiarity                                         10   \n",
       "duration                                         368.5   \n",
       "problem                                                  \n",
       "video_file                                         NaN   \n",
       "video_size                                         NaN   \n",
       "id_session                                        24.0   \n",
       "session_size                                89064580.0   \n",
       "animal                                           ec012   \n",
       "id_animal                                          1.0   \n",
       "id_mpg                                             NaN   \n",
       "mc_ncells                                         19.0   \n",
       "nshanks                                            4.0   \n",
       "cc_ncells                                         27.0   \n",
       "fileid                                           10016   \n",
       "elepos        {1: 'EC3', 2: 'EC3', 3: 'EC5', 4: 'EC5'}   \n",
       "\n",
       "                                                   36   \n",
       "id                                                  37  \n",
       "topdir                                      ec012ec.13  \n",
       "mergen                                 ec012ec.220-246  \n",
       "unit                                             unit6  \n",
       "session                                    ec012ec.229  \n",
       "behavior                                     bigSquare  \n",
       "familiarity                                         10  \n",
       "duration                                        1162.0  \n",
       "problem                                                 \n",
       "video_file                             ec012ec.229.m1v  \n",
       "video_size                                 103475603.0  \n",
       "id_session                                        11.0  \n",
       "session_size                               364172408.0  \n",
       "animal                                           ec012  \n",
       "id_animal                                          1.0  \n",
       "id_mpg                                             NaN  \n",
       "mc_ncells                                         27.0  \n",
       "nshanks                                            4.0  \n",
       "cc_ncells                                         35.0  \n",
       "fileid                                           10013  \n",
       "elepos        {1: 'EC3', 2: 'EC3', 3: 'EC5', 4: 'EC5'}  "
      ]
     },
     "execution_count": 10,
     "metadata": {},
     "output_type": "execute_result"
    }
   ],
   "source": [
    "doc_behavior.sample(5).T"
   ]
  },
  {
   "cell_type": "code",
   "execution_count": 65,
   "metadata": {},
   "outputs": [
    {
     "data": {
      "application/vnd.plotly.v1+json": {
       "config": {
        "plotlyServerURL": "https://plot.ly"
       },
       "data": [
        {
         "alignmentgroup": "True",
         "bingroup": "y",
         "hovertemplate": "count=%{x}<br>animal=%{y}<extra></extra>",
         "legendgroup": "",
         "marker": {
          "color": "#636efa",
          "pattern": {
           "shape": ""
          }
         },
         "name": "",
         "nbinsy": 100,
         "offsetgroup": "",
         "orientation": "h",
         "showlegend": false,
         "type": "histogram",
         "xaxis": "x",
         "y": [
          "ec012",
          "ec012",
          "ec012",
          "ec012",
          "ec012",
          "ec012",
          "ec012",
          "ec012",
          "ec012",
          "ec012",
          "ec012",
          "ec012",
          "ec012",
          "ec012",
          "ec012",
          "ec012",
          "ec012",
          "ec012",
          "ec012",
          "ec012",
          "ec012",
          "ec012",
          "ec012",
          "ec012",
          "ec012",
          "ec012",
          "ec012",
          "ec012",
          "ec012",
          "ec012",
          "ec012",
          "ec012",
          "ec012",
          "ec012",
          "ec012",
          "ec012",
          "ec012",
          "ec012",
          "ec012",
          "ec012",
          "ec012",
          "ec012",
          "ec012",
          "ec012",
          "ec012",
          "ec012",
          "ec012",
          "ec012",
          "ec012",
          "ec012",
          "ec012",
          "ec012",
          "ec012",
          "ec012",
          "ec012",
          "ec012",
          "ec012",
          "ec012",
          "ec012",
          "ec012",
          "ec012",
          "ec012",
          "ec012",
          "ec012",
          "ec012",
          "ec012",
          "ec012",
          "ec012",
          "ec012",
          "ec012",
          "ec013",
          "ec013",
          "ec013",
          "ec013",
          "ec013",
          "ec013",
          "ec013",
          "ec013",
          "ec013",
          "ec013",
          "ec013",
          "ec013",
          "ec013",
          "ec013",
          "ec013",
          "ec013",
          "ec013",
          "ec013",
          "ec013",
          "ec013",
          "ec013",
          "ec013",
          "ec013",
          "ec013",
          "ec013",
          "ec013",
          "ec013",
          "ec013",
          "ec013",
          "ec013",
          "ec013",
          "ec013",
          "ec013",
          "ec013",
          "ec013",
          "ec013",
          "ec013",
          "ec013",
          "ec013",
          "ec013",
          "ec013",
          "ec013",
          "ec013",
          "ec013",
          "ec013",
          "ec013",
          "ec013",
          "ec013",
          "ec013",
          "ec013",
          "ec013",
          "ec013",
          "ec013",
          "ec013",
          "ec013",
          "ec013",
          "ec013",
          "ec013",
          "ec013",
          "ec013",
          "ec013",
          "ec013",
          "ec013",
          "ec013",
          "ec013",
          "ec013",
          "ec013",
          "ec013",
          "ec013",
          "ec013",
          "ec013",
          "ec013",
          "ec013",
          "ec013",
          "ec013",
          "ec013",
          "ec013",
          "ec013",
          "ec013",
          "ec013",
          "ec013",
          "ec013",
          "ec013",
          "ec013",
          "ec013",
          "ec013",
          "ec013",
          "ec013",
          "ec013",
          "ec013",
          "ec013",
          "ec013",
          "ec013",
          "ec013",
          "ec013",
          "ec013",
          "ec013",
          "ec013",
          "ec013",
          "ec013",
          "ec013",
          "ec013",
          "ec013",
          "ec013",
          "ec013",
          "ec013",
          "ec013",
          "ec013",
          "ec013",
          "ec013",
          "ec013",
          "ec013",
          "ec013",
          "ec013",
          "ec013",
          "ec013",
          "ec013",
          "ec013",
          "ec013",
          "ec013",
          "ec013",
          "ec013",
          "ec013",
          "ec013",
          "ec013",
          "ec013",
          "ec013",
          "ec013",
          "ec013",
          "ec013",
          "ec013",
          "ec013",
          "ec013",
          "ec013",
          "ec013",
          "ec013",
          "ec013",
          "ec013",
          "ec013",
          "ec013",
          "ec013",
          "ec013",
          "ec013",
          "ec013",
          "ec013",
          "ec013",
          "ec013",
          "ec013",
          "ec013",
          "ec013",
          "ec013",
          "ec013",
          "ec013",
          "ec013",
          "ec013",
          "ec013",
          "ec013",
          "ec013",
          "ec013",
          "ec013",
          "ec013",
          "ec013",
          "ec013",
          "ec013",
          "ec013",
          "ec013",
          "ec013",
          "ec013",
          "ec013",
          "ec013",
          "ec013",
          "ec013",
          "ec013",
          "ec013",
          "ec013",
          "ec013",
          "ec013",
          "ec013",
          "ec013",
          "ec013",
          "ec013",
          "ec013",
          "ec013",
          "ec013",
          "ec013",
          "ec013",
          "ec013",
          "ec013",
          "ec013",
          "ec013",
          "ec013",
          "ec013",
          "ec013",
          "ec013",
          "ec013",
          "ec013",
          "ec013",
          "ec013",
          "ec013",
          "ec013",
          "ec013",
          "ec013",
          "ec013",
          "ec013",
          "ec013",
          "ec013",
          "ec013",
          "ec013",
          "ec014",
          "ec014",
          "ec014",
          "ec014",
          "ec014",
          "ec014",
          "ec014",
          "ec014",
          "ec014",
          "ec014",
          "ec014",
          "ec014",
          "ec014",
          "ec014",
          "ec014",
          "ec014",
          "ec014",
          "ec014",
          "ec014",
          "ec014",
          "ec014",
          "ec014",
          "ec014",
          "ec014",
          "ec014",
          "ec014",
          "ec014",
          "ec014",
          "ec014",
          "ec014",
          "ec014",
          "ec014",
          "ec014",
          "ec014",
          "ec014",
          "ec014",
          "ec014",
          "ec014",
          "ec014",
          "ec014",
          "ec014",
          "ec014",
          "ec014",
          "ec014",
          "ec014",
          "ec014",
          "ec014",
          "ec014",
          "ec014",
          "ec014",
          "ec016",
          "ec016",
          "ec016",
          "ec016",
          "ec016",
          "ec016",
          "ec016",
          "ec016",
          "ec016",
          "ec016",
          "ec016",
          "ec016",
          "ec016",
          "ec016",
          "ec016",
          "ec016",
          "ec016",
          "ec016",
          "ec016",
          "ec016",
          "ec016",
          "ec016",
          "ec016",
          "ec016",
          "ec016",
          "ec016",
          "ec016",
          "ec016",
          "ec016",
          "ec016",
          "ec016",
          "ec016",
          "ec016",
          "ec016",
          "ec016",
          "ec016",
          "ec016",
          "ec016",
          "ec016",
          "ec016",
          "ec016",
          "ec016",
          "ec016",
          "ec016",
          "ec016",
          "ec016",
          "ec016",
          "ec016",
          "ec016",
          "ec016",
          "ec016",
          "ec016",
          "ec016",
          "ec016",
          "ec016",
          "ec016",
          "ec016",
          "ec016",
          "ec016",
          "gor01",
          "gor01",
          "gor01",
          "gor01",
          "gor01",
          "gor01",
          "gor01",
          "gor01",
          "gor01",
          "pin01",
          "pin01",
          "pin01",
          "vvp01",
          "vvp01",
          "vvp01",
          "vvp01",
          "vvp01",
          "vvp01",
          "vvp01",
          "vvp01",
          "vvp01",
          "vvp01",
          "vvp01",
          "vvp01",
          "vvp01",
          "vvp01",
          "vvp01",
          "f01_m",
          "f01_m",
          "f01_m",
          "f01_m",
          "f01_m",
          "f01_m",
          "f01_m",
          "f01_m",
          "g01_m",
          "g01_m",
          "g01_m",
          "g01_m",
          "g01_m",
          "g01_m",
          "g01_m",
          "i01_m",
          "i01_m",
          "i01_m",
          "i01_m",
          "i01_m",
          "i01_m",
          "i01_m",
          "i01_m",
          "i01_m",
          "j01_m",
          "j01_m",
          "j01_m",
          "j01_m"
         ],
         "yaxis": "y"
        }
       ],
       "layout": {
        "barmode": "relative",
        "legend": {
         "tracegroupgap": 0
        },
        "template": {
         "data": {
          "bar": [
           {
            "error_x": {
             "color": "#2a3f5f"
            },
            "error_y": {
             "color": "#2a3f5f"
            },
            "marker": {
             "line": {
              "color": "#E5ECF6",
              "width": 0.5
             },
             "pattern": {
              "fillmode": "overlay",
              "size": 10,
              "solidity": 0.2
             }
            },
            "type": "bar"
           }
          ],
          "barpolar": [
           {
            "marker": {
             "line": {
              "color": "#E5ECF6",
              "width": 0.5
             },
             "pattern": {
              "fillmode": "overlay",
              "size": 10,
              "solidity": 0.2
             }
            },
            "type": "barpolar"
           }
          ],
          "carpet": [
           {
            "aaxis": {
             "endlinecolor": "#2a3f5f",
             "gridcolor": "white",
             "linecolor": "white",
             "minorgridcolor": "white",
             "startlinecolor": "#2a3f5f"
            },
            "baxis": {
             "endlinecolor": "#2a3f5f",
             "gridcolor": "white",
             "linecolor": "white",
             "minorgridcolor": "white",
             "startlinecolor": "#2a3f5f"
            },
            "type": "carpet"
           }
          ],
          "choropleth": [
           {
            "colorbar": {
             "outlinewidth": 0,
             "ticks": ""
            },
            "type": "choropleth"
           }
          ],
          "contour": [
           {
            "colorbar": {
             "outlinewidth": 0,
             "ticks": ""
            },
            "colorscale": [
             [
              0,
              "#0d0887"
             ],
             [
              0.1111111111111111,
              "#46039f"
             ],
             [
              0.2222222222222222,
              "#7201a8"
             ],
             [
              0.3333333333333333,
              "#9c179e"
             ],
             [
              0.4444444444444444,
              "#bd3786"
             ],
             [
              0.5555555555555556,
              "#d8576b"
             ],
             [
              0.6666666666666666,
              "#ed7953"
             ],
             [
              0.7777777777777778,
              "#fb9f3a"
             ],
             [
              0.8888888888888888,
              "#fdca26"
             ],
             [
              1,
              "#f0f921"
             ]
            ],
            "type": "contour"
           }
          ],
          "contourcarpet": [
           {
            "colorbar": {
             "outlinewidth": 0,
             "ticks": ""
            },
            "type": "contourcarpet"
           }
          ],
          "heatmap": [
           {
            "colorbar": {
             "outlinewidth": 0,
             "ticks": ""
            },
            "colorscale": [
             [
              0,
              "#0d0887"
             ],
             [
              0.1111111111111111,
              "#46039f"
             ],
             [
              0.2222222222222222,
              "#7201a8"
             ],
             [
              0.3333333333333333,
              "#9c179e"
             ],
             [
              0.4444444444444444,
              "#bd3786"
             ],
             [
              0.5555555555555556,
              "#d8576b"
             ],
             [
              0.6666666666666666,
              "#ed7953"
             ],
             [
              0.7777777777777778,
              "#fb9f3a"
             ],
             [
              0.8888888888888888,
              "#fdca26"
             ],
             [
              1,
              "#f0f921"
             ]
            ],
            "type": "heatmap"
           }
          ],
          "heatmapgl": [
           {
            "colorbar": {
             "outlinewidth": 0,
             "ticks": ""
            },
            "colorscale": [
             [
              0,
              "#0d0887"
             ],
             [
              0.1111111111111111,
              "#46039f"
             ],
             [
              0.2222222222222222,
              "#7201a8"
             ],
             [
              0.3333333333333333,
              "#9c179e"
             ],
             [
              0.4444444444444444,
              "#bd3786"
             ],
             [
              0.5555555555555556,
              "#d8576b"
             ],
             [
              0.6666666666666666,
              "#ed7953"
             ],
             [
              0.7777777777777778,
              "#fb9f3a"
             ],
             [
              0.8888888888888888,
              "#fdca26"
             ],
             [
              1,
              "#f0f921"
             ]
            ],
            "type": "heatmapgl"
           }
          ],
          "histogram": [
           {
            "marker": {
             "pattern": {
              "fillmode": "overlay",
              "size": 10,
              "solidity": 0.2
             }
            },
            "type": "histogram"
           }
          ],
          "histogram2d": [
           {
            "colorbar": {
             "outlinewidth": 0,
             "ticks": ""
            },
            "colorscale": [
             [
              0,
              "#0d0887"
             ],
             [
              0.1111111111111111,
              "#46039f"
             ],
             [
              0.2222222222222222,
              "#7201a8"
             ],
             [
              0.3333333333333333,
              "#9c179e"
             ],
             [
              0.4444444444444444,
              "#bd3786"
             ],
             [
              0.5555555555555556,
              "#d8576b"
             ],
             [
              0.6666666666666666,
              "#ed7953"
             ],
             [
              0.7777777777777778,
              "#fb9f3a"
             ],
             [
              0.8888888888888888,
              "#fdca26"
             ],
             [
              1,
              "#f0f921"
             ]
            ],
            "type": "histogram2d"
           }
          ],
          "histogram2dcontour": [
           {
            "colorbar": {
             "outlinewidth": 0,
             "ticks": ""
            },
            "colorscale": [
             [
              0,
              "#0d0887"
             ],
             [
              0.1111111111111111,
              "#46039f"
             ],
             [
              0.2222222222222222,
              "#7201a8"
             ],
             [
              0.3333333333333333,
              "#9c179e"
             ],
             [
              0.4444444444444444,
              "#bd3786"
             ],
             [
              0.5555555555555556,
              "#d8576b"
             ],
             [
              0.6666666666666666,
              "#ed7953"
             ],
             [
              0.7777777777777778,
              "#fb9f3a"
             ],
             [
              0.8888888888888888,
              "#fdca26"
             ],
             [
              1,
              "#f0f921"
             ]
            ],
            "type": "histogram2dcontour"
           }
          ],
          "mesh3d": [
           {
            "colorbar": {
             "outlinewidth": 0,
             "ticks": ""
            },
            "type": "mesh3d"
           }
          ],
          "parcoords": [
           {
            "line": {
             "colorbar": {
              "outlinewidth": 0,
              "ticks": ""
             }
            },
            "type": "parcoords"
           }
          ],
          "pie": [
           {
            "automargin": true,
            "type": "pie"
           }
          ],
          "scatter": [
           {
            "fillpattern": {
             "fillmode": "overlay",
             "size": 10,
             "solidity": 0.2
            },
            "type": "scatter"
           }
          ],
          "scatter3d": [
           {
            "line": {
             "colorbar": {
              "outlinewidth": 0,
              "ticks": ""
             }
            },
            "marker": {
             "colorbar": {
              "outlinewidth": 0,
              "ticks": ""
             }
            },
            "type": "scatter3d"
           }
          ],
          "scattercarpet": [
           {
            "marker": {
             "colorbar": {
              "outlinewidth": 0,
              "ticks": ""
             }
            },
            "type": "scattercarpet"
           }
          ],
          "scattergeo": [
           {
            "marker": {
             "colorbar": {
              "outlinewidth": 0,
              "ticks": ""
             }
            },
            "type": "scattergeo"
           }
          ],
          "scattergl": [
           {
            "marker": {
             "colorbar": {
              "outlinewidth": 0,
              "ticks": ""
             }
            },
            "type": "scattergl"
           }
          ],
          "scattermapbox": [
           {
            "marker": {
             "colorbar": {
              "outlinewidth": 0,
              "ticks": ""
             }
            },
            "type": "scattermapbox"
           }
          ],
          "scatterpolar": [
           {
            "marker": {
             "colorbar": {
              "outlinewidth": 0,
              "ticks": ""
             }
            },
            "type": "scatterpolar"
           }
          ],
          "scatterpolargl": [
           {
            "marker": {
             "colorbar": {
              "outlinewidth": 0,
              "ticks": ""
             }
            },
            "type": "scatterpolargl"
           }
          ],
          "scatterternary": [
           {
            "marker": {
             "colorbar": {
              "outlinewidth": 0,
              "ticks": ""
             }
            },
            "type": "scatterternary"
           }
          ],
          "surface": [
           {
            "colorbar": {
             "outlinewidth": 0,
             "ticks": ""
            },
            "colorscale": [
             [
              0,
              "#0d0887"
             ],
             [
              0.1111111111111111,
              "#46039f"
             ],
             [
              0.2222222222222222,
              "#7201a8"
             ],
             [
              0.3333333333333333,
              "#9c179e"
             ],
             [
              0.4444444444444444,
              "#bd3786"
             ],
             [
              0.5555555555555556,
              "#d8576b"
             ],
             [
              0.6666666666666666,
              "#ed7953"
             ],
             [
              0.7777777777777778,
              "#fb9f3a"
             ],
             [
              0.8888888888888888,
              "#fdca26"
             ],
             [
              1,
              "#f0f921"
             ]
            ],
            "type": "surface"
           }
          ],
          "table": [
           {
            "cells": {
             "fill": {
              "color": "#EBF0F8"
             },
             "line": {
              "color": "white"
             }
            },
            "header": {
             "fill": {
              "color": "#C8D4E3"
             },
             "line": {
              "color": "white"
             }
            },
            "type": "table"
           }
          ]
         },
         "layout": {
          "annotationdefaults": {
           "arrowcolor": "#2a3f5f",
           "arrowhead": 0,
           "arrowwidth": 1
          },
          "autotypenumbers": "strict",
          "coloraxis": {
           "colorbar": {
            "outlinewidth": 0,
            "ticks": ""
           }
          },
          "colorscale": {
           "diverging": [
            [
             0,
             "#8e0152"
            ],
            [
             0.1,
             "#c51b7d"
            ],
            [
             0.2,
             "#de77ae"
            ],
            [
             0.3,
             "#f1b6da"
            ],
            [
             0.4,
             "#fde0ef"
            ],
            [
             0.5,
             "#f7f7f7"
            ],
            [
             0.6,
             "#e6f5d0"
            ],
            [
             0.7,
             "#b8e186"
            ],
            [
             0.8,
             "#7fbc41"
            ],
            [
             0.9,
             "#4d9221"
            ],
            [
             1,
             "#276419"
            ]
           ],
           "sequential": [
            [
             0,
             "#0d0887"
            ],
            [
             0.1111111111111111,
             "#46039f"
            ],
            [
             0.2222222222222222,
             "#7201a8"
            ],
            [
             0.3333333333333333,
             "#9c179e"
            ],
            [
             0.4444444444444444,
             "#bd3786"
            ],
            [
             0.5555555555555556,
             "#d8576b"
            ],
            [
             0.6666666666666666,
             "#ed7953"
            ],
            [
             0.7777777777777778,
             "#fb9f3a"
            ],
            [
             0.8888888888888888,
             "#fdca26"
            ],
            [
             1,
             "#f0f921"
            ]
           ],
           "sequentialminus": [
            [
             0,
             "#0d0887"
            ],
            [
             0.1111111111111111,
             "#46039f"
            ],
            [
             0.2222222222222222,
             "#7201a8"
            ],
            [
             0.3333333333333333,
             "#9c179e"
            ],
            [
             0.4444444444444444,
             "#bd3786"
            ],
            [
             0.5555555555555556,
             "#d8576b"
            ],
            [
             0.6666666666666666,
             "#ed7953"
            ],
            [
             0.7777777777777778,
             "#fb9f3a"
            ],
            [
             0.8888888888888888,
             "#fdca26"
            ],
            [
             1,
             "#f0f921"
            ]
           ]
          },
          "colorway": [
           "#636efa",
           "#EF553B",
           "#00cc96",
           "#ab63fa",
           "#FFA15A",
           "#19d3f3",
           "#FF6692",
           "#B6E880",
           "#FF97FF",
           "#FECB52"
          ],
          "font": {
           "color": "#2a3f5f"
          },
          "geo": {
           "bgcolor": "white",
           "lakecolor": "white",
           "landcolor": "#E5ECF6",
           "showlakes": true,
           "showland": true,
           "subunitcolor": "white"
          },
          "hoverlabel": {
           "align": "left"
          },
          "hovermode": "closest",
          "mapbox": {
           "style": "light"
          },
          "paper_bgcolor": "white",
          "plot_bgcolor": "#E5ECF6",
          "polar": {
           "angularaxis": {
            "gridcolor": "white",
            "linecolor": "white",
            "ticks": ""
           },
           "bgcolor": "#E5ECF6",
           "radialaxis": {
            "gridcolor": "white",
            "linecolor": "white",
            "ticks": ""
           }
          },
          "scene": {
           "xaxis": {
            "backgroundcolor": "#E5ECF6",
            "gridcolor": "white",
            "gridwidth": 2,
            "linecolor": "white",
            "showbackground": true,
            "ticks": "",
            "zerolinecolor": "white"
           },
           "yaxis": {
            "backgroundcolor": "#E5ECF6",
            "gridcolor": "white",
            "gridwidth": 2,
            "linecolor": "white",
            "showbackground": true,
            "ticks": "",
            "zerolinecolor": "white"
           },
           "zaxis": {
            "backgroundcolor": "#E5ECF6",
            "gridcolor": "white",
            "gridwidth": 2,
            "linecolor": "white",
            "showbackground": true,
            "ticks": "",
            "zerolinecolor": "white"
           }
          },
          "shapedefaults": {
           "line": {
            "color": "#2a3f5f"
           }
          },
          "ternary": {
           "aaxis": {
            "gridcolor": "white",
            "linecolor": "white",
            "ticks": ""
           },
           "baxis": {
            "gridcolor": "white",
            "linecolor": "white",
            "ticks": ""
           },
           "bgcolor": "#E5ECF6",
           "caxis": {
            "gridcolor": "white",
            "linecolor": "white",
            "ticks": ""
           }
          },
          "title": {
           "x": 0.05
          },
          "xaxis": {
           "automargin": true,
           "gridcolor": "white",
           "linecolor": "white",
           "ticks": "",
           "title": {
            "standoff": 15
           },
           "zerolinecolor": "white",
           "zerolinewidth": 2
          },
          "yaxis": {
           "automargin": true,
           "gridcolor": "white",
           "linecolor": "white",
           "ticks": "",
           "title": {
            "standoff": 15
           },
           "zerolinecolor": "white",
           "zerolinewidth": 2
          }
         }
        },
        "title": {
         "text": "Animal Sessions"
        },
        "xaxis": {
         "anchor": "y",
         "domain": [
          0,
          1
         ],
         "title": {
          "text": "count"
         }
        },
        "yaxis": {
         "anchor": "x",
         "domain": [
          0,
          1
         ],
         "title": {
          "text": "animal"
         }
        }
       }
      }
     },
     "metadata": {},
     "output_type": "display_data"
    }
   ],
   "source": [
    "px.histogram(\n",
    "    doc_behavior,\n",
    "    y='animal', \n",
    "    nbins=100, \n",
    "    title='Animal Sessions'\n",
    ")"
   ]
  },
  {
   "cell_type": "code",
   "execution_count": 66,
   "metadata": {},
   "outputs": [
    {
     "data": {
      "application/vnd.plotly.v1+json": {
       "config": {
        "plotlyServerURL": "https://plot.ly"
       },
       "data": [
        {
         "alignmentgroup": "True",
         "bingroup": "y",
         "hovertemplate": "count=%{x}<br>behavior=%{y}<extra></extra>",
         "legendgroup": "",
         "marker": {
          "color": "#636efa",
          "pattern": {
           "shape": ""
          }
         },
         "name": "",
         "nbinsy": 100,
         "offsetgroup": "",
         "orientation": "h",
         "showlegend": false,
         "type": "histogram",
         "xaxis": "x",
         "y": [
          "Mwheel",
          "Mwheel",
          "Mwheel",
          "Mwheel",
          "Mwheel",
          "Mwheel",
          "Mwheel",
          "Mwheel",
          "bigSquare",
          "bigSquare",
          "bigSquare",
          "linear",
          "linear",
          "bigSquare",
          "bigSquare",
          "bigSquare",
          "linear",
          "linear",
          "linear",
          "Mwheel",
          "Mwheel",
          "Mwheel",
          "Mwheel",
          "Mwheel",
          "Mwheel",
          "Mwheel",
          "bigSquare",
          "bigSquare",
          "bigSquare",
          "linear",
          "linear",
          "bigSquare",
          "bigSquare",
          "bigSquare",
          "linear",
          "linear",
          "Mwheel",
          "Mwheel",
          "Mwheel",
          "Mwheel",
          "Mwheel",
          "Mwheel",
          "Mwheel",
          "bigSquare",
          "bigSquare",
          "bigSquare",
          "linear",
          "linear",
          "bigSquare",
          "bigSquare",
          "bigSquare",
          "linear",
          "linear",
          "linear",
          "Mwheel",
          "Mwheel",
          "bigSquare",
          "bigSquare",
          "bigSquare",
          "linear",
          "linear",
          "Mwheel",
          "Mwheel",
          "Mwheel",
          "Mwheel",
          "bigSquare",
          "bigSquare",
          "bigSquare",
          "linear",
          "linear",
          "linear",
          "linear",
          "bigSquare",
          "linear",
          "linear",
          "linear",
          "bigSquare",
          "bigSquare",
          "linear",
          "linear",
          "linear",
          "linear",
          "wheel",
          "wheel",
          "linear",
          "linear",
          "linear",
          "linear",
          "wheel",
          "wheel",
          "wheel",
          "bigSquare",
          "bigSquare",
          "linear",
          "linear",
          "linear",
          "Mwheel",
          "Mwheel",
          "wheel",
          "wheel",
          "wheel",
          "bigSquare",
          "bigSquare",
          "linear",
          "linear",
          "linear",
          "linear",
          "bigSquare",
          "bigSquare",
          "bigSquare",
          "linear",
          "linear",
          "linear",
          "wheel",
          "Mwheel",
          "plus",
          "plus",
          "plus",
          "plus",
          "bigSquare",
          "linear",
          "linear",
          "linear",
          "wheel",
          "wheel",
          "bigSquare",
          "bigSquare",
          "bigSquare",
          "bigSquare",
          "linear",
          "linear",
          "linear",
          "Mwheel",
          "Mwheel",
          "Mwheel",
          "Mwheel",
          "Mwheel",
          "bigSquare",
          "linear",
          "linear",
          "linear",
          "bigSquare",
          "linear",
          "linear",
          "linear",
          "wheel",
          "wheel",
          "wheel",
          "wheel",
          "linear",
          "wheel",
          "wheel",
          "bigSquare",
          "linear",
          "linear",
          "linear",
          "wheel",
          "wheel",
          "Mwheel",
          "bigSquare",
          "bigSquare",
          "linear",
          "linear",
          "linear",
          "linear",
          "linear",
          "linear",
          "bigSquare",
          "bigSquare",
          "wheel",
          "wheel",
          "Mwheel",
          "midSquare",
          "midSquare",
          "midSquare",
          "linear",
          "linear",
          "linear",
          "linear",
          "linear",
          "linear",
          "bigSquare",
          "wheel",
          "wheel",
          "wheel",
          "Mwheel",
          "bigSquare",
          "bigSquare",
          "wheel",
          "wheel",
          "linear",
          "linear",
          "linear",
          "linear",
          "linear",
          "linear",
          "bigSquare",
          "bigSquare",
          "bigSquare",
          "bigSquare",
          "bigSquare",
          "bigSquare",
          "linear",
          "linear",
          "linear",
          "wheel",
          "wheel",
          "Mwheel",
          "Mwheel",
          "bigSquare",
          "bigSquare",
          "linear",
          "linear",
          "linear",
          "linear",
          "linear",
          "bigSquare",
          "wheel",
          "wheel",
          "Mwheel",
          "plus",
          "plus",
          "plus",
          "plus",
          "linear",
          "linear",
          "linear",
          "bigSquare",
          "wheel",
          "wheel",
          "wheel",
          "wheel",
          "bigSquare",
          "linear",
          "linear",
          "linear",
          "linear",
          "linear",
          "linear",
          "linear",
          "bigSquare",
          "bigSquarePlus",
          "bigSquarePlus",
          "bigSquare",
          "Mwheel",
          "linear",
          "linear",
          "linear",
          "bigSquare",
          "wheel",
          "wheel",
          "Mwheel",
          "linear",
          "linear",
          "linear",
          "bigSquare",
          "bigSquare",
          "wheel",
          "wheel",
          "bigSquare",
          "linear",
          "linear",
          "linear",
          "plus",
          "plus",
          "plus",
          "linear",
          "linear",
          "linear",
          "bigSquare",
          "bigSquare",
          "bigSquare",
          "wheel",
          "wheel",
          "linear",
          "linear",
          "linear",
          "midSquare",
          "Mwheel",
          "Mwheel",
          "Mwheel",
          "Mwheel",
          "bigSquare",
          "bigSquare",
          "bigSquare",
          "bigSquare",
          "Mwheel",
          "Mwheel",
          "Mwheel",
          "Mwheel",
          "linear",
          "linear",
          "midSquare",
          "wheel",
          "wheel",
          "midSquare",
          "midSquare",
          "wheel",
          "wheel",
          "midSquare",
          "midSquare",
          "sleep",
          "wheel",
          "sleep",
          "wheel",
          "sleep",
          "midSquare",
          "midSquare",
          "sleep",
          "wheel",
          "sleep",
          "wheel",
          "sleep",
          "midSquare",
          "sleep",
          "sleep",
          "sleep",
          "sleep",
          "sleep",
          "sleep",
          "sleep",
          "sleep",
          "ZigZag",
          "sleep",
          "sleep",
          "sleep",
          "sleep",
          "sleep",
          "sleep",
          "linear",
          "linear",
          "linear",
          "sleep",
          "sleep",
          "sleep",
          "bigSquare",
          "wheel",
          "bigSquare",
          "wheel",
          "bigSquare",
          "Mwheel",
          "wheel",
          "Mwheel",
          "Mwheel",
          "Mwheel",
          "bigSquare",
          "wheel",
          "Mwheel",
          "linear",
          "bigSquare",
          "wheel",
          "bigSquare",
          "bigSquare",
          "linear",
          "wheel",
          "sleep",
          "linear",
          "sleep",
          "sleep",
          "Mwheel",
          "Mwheel",
          "Mwheel",
          "Mwheel",
          "linear",
          "bigSquare",
          "bigSquare",
          "bigSquare",
          "wheel",
          "wheel",
          "bigSquare",
          "bigSquare",
          "linear",
          "wheel",
          "midSquare",
          "midSquare",
          "Mwheel",
          "sleep",
          "sleep",
          "sleep",
          "Mwheel",
          "wheel_home",
          "wheel_home",
          "Mwheel",
          "Mwheel",
          "Mwheel",
          "linear",
          "bigSquare",
          "linearOne",
          "linearTwo",
          "linearOne",
          "linearTwo",
          "Tmaze",
          "linearOne",
          "linearTwo",
          "wheel",
          "Tmaze",
          "Tmaze",
          "Tmaze",
          "Tmaze",
          "linearTwo",
          "linearOne",
          "sleep",
          "linearOne",
          "linearTwo",
          "Open",
          "linearTwo",
          "linearOne",
          "Open",
          "linearOne",
          "linearTwo",
          "linearOne",
          "linearTwo",
          "Open",
          "Tmaze",
          "Mwheel",
          "Mwheel",
          "Mwheel",
          "Mwheel",
          "Mwheel",
          "Mwheel",
          "Mwheel",
          "Mwheel",
          "Mwheel",
          "Mwheel",
          "Mwheel",
          "Mwheel",
          "Mwheel",
          "Mwheel",
          "Mwheel",
          "Mwheel",
          "Mwheel",
          "Mwheel",
          "Mwheel",
          "Mwheel",
          "Mwheel",
          "Mwheel",
          "bigSquare",
          "Mwheel",
          "bigSquare",
          "bigSquare",
          "bigSquare",
          "bigSquare"
         ],
         "yaxis": "y"
        }
       ],
       "layout": {
        "barmode": "relative",
        "legend": {
         "tracegroupgap": 0
        },
        "template": {
         "data": {
          "bar": [
           {
            "error_x": {
             "color": "#2a3f5f"
            },
            "error_y": {
             "color": "#2a3f5f"
            },
            "marker": {
             "line": {
              "color": "#E5ECF6",
              "width": 0.5
             },
             "pattern": {
              "fillmode": "overlay",
              "size": 10,
              "solidity": 0.2
             }
            },
            "type": "bar"
           }
          ],
          "barpolar": [
           {
            "marker": {
             "line": {
              "color": "#E5ECF6",
              "width": 0.5
             },
             "pattern": {
              "fillmode": "overlay",
              "size": 10,
              "solidity": 0.2
             }
            },
            "type": "barpolar"
           }
          ],
          "carpet": [
           {
            "aaxis": {
             "endlinecolor": "#2a3f5f",
             "gridcolor": "white",
             "linecolor": "white",
             "minorgridcolor": "white",
             "startlinecolor": "#2a3f5f"
            },
            "baxis": {
             "endlinecolor": "#2a3f5f",
             "gridcolor": "white",
             "linecolor": "white",
             "minorgridcolor": "white",
             "startlinecolor": "#2a3f5f"
            },
            "type": "carpet"
           }
          ],
          "choropleth": [
           {
            "colorbar": {
             "outlinewidth": 0,
             "ticks": ""
            },
            "type": "choropleth"
           }
          ],
          "contour": [
           {
            "colorbar": {
             "outlinewidth": 0,
             "ticks": ""
            },
            "colorscale": [
             [
              0,
              "#0d0887"
             ],
             [
              0.1111111111111111,
              "#46039f"
             ],
             [
              0.2222222222222222,
              "#7201a8"
             ],
             [
              0.3333333333333333,
              "#9c179e"
             ],
             [
              0.4444444444444444,
              "#bd3786"
             ],
             [
              0.5555555555555556,
              "#d8576b"
             ],
             [
              0.6666666666666666,
              "#ed7953"
             ],
             [
              0.7777777777777778,
              "#fb9f3a"
             ],
             [
              0.8888888888888888,
              "#fdca26"
             ],
             [
              1,
              "#f0f921"
             ]
            ],
            "type": "contour"
           }
          ],
          "contourcarpet": [
           {
            "colorbar": {
             "outlinewidth": 0,
             "ticks": ""
            },
            "type": "contourcarpet"
           }
          ],
          "heatmap": [
           {
            "colorbar": {
             "outlinewidth": 0,
             "ticks": ""
            },
            "colorscale": [
             [
              0,
              "#0d0887"
             ],
             [
              0.1111111111111111,
              "#46039f"
             ],
             [
              0.2222222222222222,
              "#7201a8"
             ],
             [
              0.3333333333333333,
              "#9c179e"
             ],
             [
              0.4444444444444444,
              "#bd3786"
             ],
             [
              0.5555555555555556,
              "#d8576b"
             ],
             [
              0.6666666666666666,
              "#ed7953"
             ],
             [
              0.7777777777777778,
              "#fb9f3a"
             ],
             [
              0.8888888888888888,
              "#fdca26"
             ],
             [
              1,
              "#f0f921"
             ]
            ],
            "type": "heatmap"
           }
          ],
          "heatmapgl": [
           {
            "colorbar": {
             "outlinewidth": 0,
             "ticks": ""
            },
            "colorscale": [
             [
              0,
              "#0d0887"
             ],
             [
              0.1111111111111111,
              "#46039f"
             ],
             [
              0.2222222222222222,
              "#7201a8"
             ],
             [
              0.3333333333333333,
              "#9c179e"
             ],
             [
              0.4444444444444444,
              "#bd3786"
             ],
             [
              0.5555555555555556,
              "#d8576b"
             ],
             [
              0.6666666666666666,
              "#ed7953"
             ],
             [
              0.7777777777777778,
              "#fb9f3a"
             ],
             [
              0.8888888888888888,
              "#fdca26"
             ],
             [
              1,
              "#f0f921"
             ]
            ],
            "type": "heatmapgl"
           }
          ],
          "histogram": [
           {
            "marker": {
             "pattern": {
              "fillmode": "overlay",
              "size": 10,
              "solidity": 0.2
             }
            },
            "type": "histogram"
           }
          ],
          "histogram2d": [
           {
            "colorbar": {
             "outlinewidth": 0,
             "ticks": ""
            },
            "colorscale": [
             [
              0,
              "#0d0887"
             ],
             [
              0.1111111111111111,
              "#46039f"
             ],
             [
              0.2222222222222222,
              "#7201a8"
             ],
             [
              0.3333333333333333,
              "#9c179e"
             ],
             [
              0.4444444444444444,
              "#bd3786"
             ],
             [
              0.5555555555555556,
              "#d8576b"
             ],
             [
              0.6666666666666666,
              "#ed7953"
             ],
             [
              0.7777777777777778,
              "#fb9f3a"
             ],
             [
              0.8888888888888888,
              "#fdca26"
             ],
             [
              1,
              "#f0f921"
             ]
            ],
            "type": "histogram2d"
           }
          ],
          "histogram2dcontour": [
           {
            "colorbar": {
             "outlinewidth": 0,
             "ticks": ""
            },
            "colorscale": [
             [
              0,
              "#0d0887"
             ],
             [
              0.1111111111111111,
              "#46039f"
             ],
             [
              0.2222222222222222,
              "#7201a8"
             ],
             [
              0.3333333333333333,
              "#9c179e"
             ],
             [
              0.4444444444444444,
              "#bd3786"
             ],
             [
              0.5555555555555556,
              "#d8576b"
             ],
             [
              0.6666666666666666,
              "#ed7953"
             ],
             [
              0.7777777777777778,
              "#fb9f3a"
             ],
             [
              0.8888888888888888,
              "#fdca26"
             ],
             [
              1,
              "#f0f921"
             ]
            ],
            "type": "histogram2dcontour"
           }
          ],
          "mesh3d": [
           {
            "colorbar": {
             "outlinewidth": 0,
             "ticks": ""
            },
            "type": "mesh3d"
           }
          ],
          "parcoords": [
           {
            "line": {
             "colorbar": {
              "outlinewidth": 0,
              "ticks": ""
             }
            },
            "type": "parcoords"
           }
          ],
          "pie": [
           {
            "automargin": true,
            "type": "pie"
           }
          ],
          "scatter": [
           {
            "fillpattern": {
             "fillmode": "overlay",
             "size": 10,
             "solidity": 0.2
            },
            "type": "scatter"
           }
          ],
          "scatter3d": [
           {
            "line": {
             "colorbar": {
              "outlinewidth": 0,
              "ticks": ""
             }
            },
            "marker": {
             "colorbar": {
              "outlinewidth": 0,
              "ticks": ""
             }
            },
            "type": "scatter3d"
           }
          ],
          "scattercarpet": [
           {
            "marker": {
             "colorbar": {
              "outlinewidth": 0,
              "ticks": ""
             }
            },
            "type": "scattercarpet"
           }
          ],
          "scattergeo": [
           {
            "marker": {
             "colorbar": {
              "outlinewidth": 0,
              "ticks": ""
             }
            },
            "type": "scattergeo"
           }
          ],
          "scattergl": [
           {
            "marker": {
             "colorbar": {
              "outlinewidth": 0,
              "ticks": ""
             }
            },
            "type": "scattergl"
           }
          ],
          "scattermapbox": [
           {
            "marker": {
             "colorbar": {
              "outlinewidth": 0,
              "ticks": ""
             }
            },
            "type": "scattermapbox"
           }
          ],
          "scatterpolar": [
           {
            "marker": {
             "colorbar": {
              "outlinewidth": 0,
              "ticks": ""
             }
            },
            "type": "scatterpolar"
           }
          ],
          "scatterpolargl": [
           {
            "marker": {
             "colorbar": {
              "outlinewidth": 0,
              "ticks": ""
             }
            },
            "type": "scatterpolargl"
           }
          ],
          "scatterternary": [
           {
            "marker": {
             "colorbar": {
              "outlinewidth": 0,
              "ticks": ""
             }
            },
            "type": "scatterternary"
           }
          ],
          "surface": [
           {
            "colorbar": {
             "outlinewidth": 0,
             "ticks": ""
            },
            "colorscale": [
             [
              0,
              "#0d0887"
             ],
             [
              0.1111111111111111,
              "#46039f"
             ],
             [
              0.2222222222222222,
              "#7201a8"
             ],
             [
              0.3333333333333333,
              "#9c179e"
             ],
             [
              0.4444444444444444,
              "#bd3786"
             ],
             [
              0.5555555555555556,
              "#d8576b"
             ],
             [
              0.6666666666666666,
              "#ed7953"
             ],
             [
              0.7777777777777778,
              "#fb9f3a"
             ],
             [
              0.8888888888888888,
              "#fdca26"
             ],
             [
              1,
              "#f0f921"
             ]
            ],
            "type": "surface"
           }
          ],
          "table": [
           {
            "cells": {
             "fill": {
              "color": "#EBF0F8"
             },
             "line": {
              "color": "white"
             }
            },
            "header": {
             "fill": {
              "color": "#C8D4E3"
             },
             "line": {
              "color": "white"
             }
            },
            "type": "table"
           }
          ]
         },
         "layout": {
          "annotationdefaults": {
           "arrowcolor": "#2a3f5f",
           "arrowhead": 0,
           "arrowwidth": 1
          },
          "autotypenumbers": "strict",
          "coloraxis": {
           "colorbar": {
            "outlinewidth": 0,
            "ticks": ""
           }
          },
          "colorscale": {
           "diverging": [
            [
             0,
             "#8e0152"
            ],
            [
             0.1,
             "#c51b7d"
            ],
            [
             0.2,
             "#de77ae"
            ],
            [
             0.3,
             "#f1b6da"
            ],
            [
             0.4,
             "#fde0ef"
            ],
            [
             0.5,
             "#f7f7f7"
            ],
            [
             0.6,
             "#e6f5d0"
            ],
            [
             0.7,
             "#b8e186"
            ],
            [
             0.8,
             "#7fbc41"
            ],
            [
             0.9,
             "#4d9221"
            ],
            [
             1,
             "#276419"
            ]
           ],
           "sequential": [
            [
             0,
             "#0d0887"
            ],
            [
             0.1111111111111111,
             "#46039f"
            ],
            [
             0.2222222222222222,
             "#7201a8"
            ],
            [
             0.3333333333333333,
             "#9c179e"
            ],
            [
             0.4444444444444444,
             "#bd3786"
            ],
            [
             0.5555555555555556,
             "#d8576b"
            ],
            [
             0.6666666666666666,
             "#ed7953"
            ],
            [
             0.7777777777777778,
             "#fb9f3a"
            ],
            [
             0.8888888888888888,
             "#fdca26"
            ],
            [
             1,
             "#f0f921"
            ]
           ],
           "sequentialminus": [
            [
             0,
             "#0d0887"
            ],
            [
             0.1111111111111111,
             "#46039f"
            ],
            [
             0.2222222222222222,
             "#7201a8"
            ],
            [
             0.3333333333333333,
             "#9c179e"
            ],
            [
             0.4444444444444444,
             "#bd3786"
            ],
            [
             0.5555555555555556,
             "#d8576b"
            ],
            [
             0.6666666666666666,
             "#ed7953"
            ],
            [
             0.7777777777777778,
             "#fb9f3a"
            ],
            [
             0.8888888888888888,
             "#fdca26"
            ],
            [
             1,
             "#f0f921"
            ]
           ]
          },
          "colorway": [
           "#636efa",
           "#EF553B",
           "#00cc96",
           "#ab63fa",
           "#FFA15A",
           "#19d3f3",
           "#FF6692",
           "#B6E880",
           "#FF97FF",
           "#FECB52"
          ],
          "font": {
           "color": "#2a3f5f"
          },
          "geo": {
           "bgcolor": "white",
           "lakecolor": "white",
           "landcolor": "#E5ECF6",
           "showlakes": true,
           "showland": true,
           "subunitcolor": "white"
          },
          "hoverlabel": {
           "align": "left"
          },
          "hovermode": "closest",
          "mapbox": {
           "style": "light"
          },
          "paper_bgcolor": "white",
          "plot_bgcolor": "#E5ECF6",
          "polar": {
           "angularaxis": {
            "gridcolor": "white",
            "linecolor": "white",
            "ticks": ""
           },
           "bgcolor": "#E5ECF6",
           "radialaxis": {
            "gridcolor": "white",
            "linecolor": "white",
            "ticks": ""
           }
          },
          "scene": {
           "xaxis": {
            "backgroundcolor": "#E5ECF6",
            "gridcolor": "white",
            "gridwidth": 2,
            "linecolor": "white",
            "showbackground": true,
            "ticks": "",
            "zerolinecolor": "white"
           },
           "yaxis": {
            "backgroundcolor": "#E5ECF6",
            "gridcolor": "white",
            "gridwidth": 2,
            "linecolor": "white",
            "showbackground": true,
            "ticks": "",
            "zerolinecolor": "white"
           },
           "zaxis": {
            "backgroundcolor": "#E5ECF6",
            "gridcolor": "white",
            "gridwidth": 2,
            "linecolor": "white",
            "showbackground": true,
            "ticks": "",
            "zerolinecolor": "white"
           }
          },
          "shapedefaults": {
           "line": {
            "color": "#2a3f5f"
           }
          },
          "ternary": {
           "aaxis": {
            "gridcolor": "white",
            "linecolor": "white",
            "ticks": ""
           },
           "baxis": {
            "gridcolor": "white",
            "linecolor": "white",
            "ticks": ""
           },
           "bgcolor": "#E5ECF6",
           "caxis": {
            "gridcolor": "white",
            "linecolor": "white",
            "ticks": ""
           }
          },
          "title": {
           "x": 0.05
          },
          "xaxis": {
           "automargin": true,
           "gridcolor": "white",
           "linecolor": "white",
           "ticks": "",
           "title": {
            "standoff": 15
           },
           "zerolinecolor": "white",
           "zerolinewidth": 2
          },
          "yaxis": {
           "automargin": true,
           "gridcolor": "white",
           "linecolor": "white",
           "ticks": "",
           "title": {
            "standoff": 15
           },
           "zerolinecolor": "white",
           "zerolinewidth": 2
          }
         }
        },
        "title": {
         "text": "Duration of behavior trials (s)"
        },
        "xaxis": {
         "anchor": "y",
         "domain": [
          0,
          1
         ],
         "title": {
          "text": "count"
         }
        },
        "yaxis": {
         "anchor": "x",
         "domain": [
          0,
          1
         ],
         "title": {
          "text": "behavior"
         }
        }
       }
      }
     },
     "metadata": {},
     "output_type": "display_data"
    }
   ],
   "source": [
    "px.histogram(\n",
    "    doc_behavior,\n",
    "    y='behavior', \n",
    "    nbins=100,\n",
    "    title='Duration of behavior trials (s)'\n",
    ")"
   ]
  },
  {
   "cell_type": "code",
   "execution_count": 67,
   "metadata": {},
   "outputs": [
    {
     "data": {
      "application/vnd.plotly.v1+json": {
       "config": {
        "plotlyServerURL": "https://plot.ly"
       },
       "data": [
        {
         "alignmentgroup": "True",
         "bingroup": "x",
         "hovertemplate": "duration=%{x}<br>count=%{y}<extra></extra>",
         "legendgroup": "",
         "marker": {
          "color": "#636efa",
          "pattern": {
           "shape": ""
          }
         },
         "name": "",
         "nbinsx": 100,
         "offsetgroup": "",
         "orientation": "v",
         "showlegend": false,
         "type": "histogram",
         "x": [
          1096.4,
          171.6,
          942.5,
          220.3,
          747.8,
          547.6,
          740.2,
          457.2,
          1148.7,
          1109.2,
          1162,
          471.7,
          637.5,
          1161.2,
          1158.8,
          1160.6,
          507.4,
          420,
          403.2,
          1115.2,
          1018.6,
          327.8,
          1094.4,
          368.5,
          1060.7,
          243.8,
          1159.7,
          1166.5,
          1158.9,
          467.1,
          565.3,
          1160.9,
          807.1,
          1159.8,
          505.1,
          631.2,
          1125.4,
          1137.8,
          978.4,
          76.8,
          1247.2,
          894.4,
          1051.5,
          1161.2,
          1159.1,
          1218.3,
          418.7,
          390.6,
          754.6,
          1159.5,
          1157.8,
          488.3,
          440.3,
          576.3,
          1099.6,
          1068,
          1154,
          1153.2,
          1157.5,
          474.1,
          614.8,
          1074,
          1037.3,
          1077.1,
          1042.2,
          1158,
          1156,
          1158.3,
          414.6,
          409.6,
          1023.59,
          631.2,
          1563.9,
          187.5968,
          874.4,
          778.24,
          1835.827,
          1852.621,
          967.6,
          962.9696,
          1076.429,
          1757.184,
          619.2,
          637.7,
          874.0864,
          657.408,
          1006.797,
          1148.7,
          435.4048,
          1063.731,
          1006.797,
          1679.77,
          1484.39,
          869.5808,
          635.2896,
          781.3,
          2186.854,
          1538.458,
          1024.6,
          917.504,
          1032.602,
          1781.76,
          1599.488,
          876.6,
          869.1712,
          813.8752,
          1001.472,
          1081.344,
          2172.109,
          1766.5,
          937.4,
          1048.576,
          806.912,
          945.9,
          2164.326,
          647.3,
          697.7,
          549.8,
          650.8544,
          1286.3,
          709.4272,
          798,
          668.1,
          1102.234,
          819.2,
          1823.13,
          1060.1,
          1604.403,
          1849.754,
          927,
          932.6592,
          681.5744,
          137.3,
          1525.35,
          119.6032,
          29.1,
          724.1,
          2504.294,
          1032.602,
          1092.403,
          778.6496,
          1560.166,
          502.1696,
          927.3344,
          891.8,
          721.3,
          786.8416,
          910.5408,
          412.8768,
          1610.138,
          899.8912,
          650.8544,
          2070.5,
          796.2624,
          862.208,
          882.8,
          845.4144,
          1445.069,
          3592.602,
          1779.712,
          2568.5,
          771.5,
          1234.944,
          1358.643,
          1400.422,
          1941.094,
          920.3712,
          2075.443,
          1326.285,
          1084.211,
          932.2496,
          2644.2,
          1843.8,
          1853.9,
          1871.053,
          798.3,
          1248.051,
          1137.4,
          1304.166,
          1017.037,
          821.6576,
          1833.37,
          876.1344,
          958.8736,
          940.8,
          2200.371,
          2270.413,
          2278.1,
          944.5376,
          1119.027,
          1189.888,
          1202.176,
          1379.533,
          1224.704,
          1321.779,
          927.744,
          1557.299,
          1515.93,
          3234.4,
          1968.538,
          2423.603,
          2418.278,
          1187.43,
          1350.861,
          1165.722,
          1258.7,
          1726.464,
          3632.4,
          3658.138,
          2116.9,
          1705.165,
          1472.922,
          1430.5,
          1227.162,
          1445.478,
          1649.05,
          2209.792,
          989.9,
          1078.067,
          2684.1,
          1261.568,
          1260.339,
          1301.299,
          1462.682,
          1242.6,
          1120.256,
          1599.488,
          1833.7,
          1746.944,
          1521.254,
          1360.7,
          1068.646,
          2233.958,
          1187.43,
          1368.6,
          1655.194,
          1259.93,
          1206.682,
          1130.7,
          1415.987,
          1343.2,
          1683.1,
          1462.682,
          1291.469,
          2220.032,
          1304.166,
          1300.48,
          1511.424,
          2308.506,
          1463.501,
          1685.914,
          3362.406,
          1470.1,
          1316.454,
          1301.299,
          1780.122,
          1322.8,
          1772.339,
          1426.227,
          2060.288,
          1314.816,
          1352.909,
          1793.229,
          975.2576,
          966.2464,
          972.3904,
          1446.298,
          1568.6,
          1761.69,
          1990.5,
          1640.1,
          3009.5,
          1486.438,
          1517.158,
          1356.595,
          1218.4,
          1766.7,
          1383.629,
          4791.9,
          3133.44,
          3846.1,
          4576.051,
          5598.413,
          5494.374,
          5514.2,
          5608.653,
          4262.707,
          5163,
          5054.874,
          4740.71,
          3957.7,
          3879.1,
          2741.453,
          1838.694,
          1839.3,
          2784,
          2811.494,
          2050.048,
          2014.822,
          2746.778,
          2846.72,
          651.264,
          1988.2,
          611.5328,
          2273.69,
          600.8832,
          2958,
          2825.7,
          608.256,
          2888.8,
          623.3,
          2921.677,
          600.2,
          2966.9,
          1228.599,
          178.4265,
          1687.625,
          649.7835,
          2047.497,
          625.373,
          3006.821,
          624.1142,
          5525.674,
          5757.704,
          553.9018,
          1350.653,
          846.3291,
          7064.82,
          622.3,
          1928.1,
          1045.4,
          3369.8,
          2074.214,
          1638.81,
          761.0368,
          5449.728,
          2533.7,
          6409.9,
          1701.888,
          5450.138,
          2751.283,
          2652.16,
          4189.798,
          3703.5,
          4147.61,
          5452.3,
          712.9,
          3642.163,
          1494,
          3677.1,
          437.4,
          5443.994,
          5497,
          1193.574,
          3168.666,
          615.5,
          1923.1,
          2134.835,
          1061.683,
          2652.1,
          3615.9,
          4230.349,
          4018.586,
          1760.461,
          5414.093,
          5418.8,
          3633.971,
          2984.8,
          2076.7,
          3704.013,
          4217.1,
          1676.4,
          2544.8,
          2838.7,
          2783.9,
          4296.5,
          1178.2,
          657.8,
          519.2,
          3359.13,
          630.7,
          245.76,
          1165,
          2981.888,
          4268.032,
          1897.677,
          5318.656,
          2692.247,
          2587.808,
          1133.975,
          821.9185,
          2358.296,
          878.2899,
          885.0847,
          2581.014,
          2871.428,
          1811.692,
          621.3458,
          566.4848,
          1770.673,
          1757.586,
          4943.588,
          1441.754,
          1490.324,
          1705.996,
          1499.384,
          1100.756,
          1276.666,
          825.4417,
          644.7508,
          525.7157,
          540.0607,
          1613.637,
          3166.624,
          1349.222,
          1310.72,
          1451.8,
          1356.595,
          382.7,
          663.552,
          1338.163,
          1313.997,
          1252.4,
          1314.406,
          1125.99,
          2074,
          1340.7,
          2203,
          1602.9,
          922.0096,
          648.9,
          669.696,
          1090.765,
          1321.8,
          923.8,
          866.7136,
          3719.1,
          1440.563,
          3802.3,
          984.1,
          2240.4,
          3570.5
         ],
         "xaxis": "x",
         "yaxis": "y"
        }
       ],
       "layout": {
        "barmode": "relative",
        "legend": {
         "tracegroupgap": 0
        },
        "template": {
         "data": {
          "bar": [
           {
            "error_x": {
             "color": "#2a3f5f"
            },
            "error_y": {
             "color": "#2a3f5f"
            },
            "marker": {
             "line": {
              "color": "#E5ECF6",
              "width": 0.5
             },
             "pattern": {
              "fillmode": "overlay",
              "size": 10,
              "solidity": 0.2
             }
            },
            "type": "bar"
           }
          ],
          "barpolar": [
           {
            "marker": {
             "line": {
              "color": "#E5ECF6",
              "width": 0.5
             },
             "pattern": {
              "fillmode": "overlay",
              "size": 10,
              "solidity": 0.2
             }
            },
            "type": "barpolar"
           }
          ],
          "carpet": [
           {
            "aaxis": {
             "endlinecolor": "#2a3f5f",
             "gridcolor": "white",
             "linecolor": "white",
             "minorgridcolor": "white",
             "startlinecolor": "#2a3f5f"
            },
            "baxis": {
             "endlinecolor": "#2a3f5f",
             "gridcolor": "white",
             "linecolor": "white",
             "minorgridcolor": "white",
             "startlinecolor": "#2a3f5f"
            },
            "type": "carpet"
           }
          ],
          "choropleth": [
           {
            "colorbar": {
             "outlinewidth": 0,
             "ticks": ""
            },
            "type": "choropleth"
           }
          ],
          "contour": [
           {
            "colorbar": {
             "outlinewidth": 0,
             "ticks": ""
            },
            "colorscale": [
             [
              0,
              "#0d0887"
             ],
             [
              0.1111111111111111,
              "#46039f"
             ],
             [
              0.2222222222222222,
              "#7201a8"
             ],
             [
              0.3333333333333333,
              "#9c179e"
             ],
             [
              0.4444444444444444,
              "#bd3786"
             ],
             [
              0.5555555555555556,
              "#d8576b"
             ],
             [
              0.6666666666666666,
              "#ed7953"
             ],
             [
              0.7777777777777778,
              "#fb9f3a"
             ],
             [
              0.8888888888888888,
              "#fdca26"
             ],
             [
              1,
              "#f0f921"
             ]
            ],
            "type": "contour"
           }
          ],
          "contourcarpet": [
           {
            "colorbar": {
             "outlinewidth": 0,
             "ticks": ""
            },
            "type": "contourcarpet"
           }
          ],
          "heatmap": [
           {
            "colorbar": {
             "outlinewidth": 0,
             "ticks": ""
            },
            "colorscale": [
             [
              0,
              "#0d0887"
             ],
             [
              0.1111111111111111,
              "#46039f"
             ],
             [
              0.2222222222222222,
              "#7201a8"
             ],
             [
              0.3333333333333333,
              "#9c179e"
             ],
             [
              0.4444444444444444,
              "#bd3786"
             ],
             [
              0.5555555555555556,
              "#d8576b"
             ],
             [
              0.6666666666666666,
              "#ed7953"
             ],
             [
              0.7777777777777778,
              "#fb9f3a"
             ],
             [
              0.8888888888888888,
              "#fdca26"
             ],
             [
              1,
              "#f0f921"
             ]
            ],
            "type": "heatmap"
           }
          ],
          "heatmapgl": [
           {
            "colorbar": {
             "outlinewidth": 0,
             "ticks": ""
            },
            "colorscale": [
             [
              0,
              "#0d0887"
             ],
             [
              0.1111111111111111,
              "#46039f"
             ],
             [
              0.2222222222222222,
              "#7201a8"
             ],
             [
              0.3333333333333333,
              "#9c179e"
             ],
             [
              0.4444444444444444,
              "#bd3786"
             ],
             [
              0.5555555555555556,
              "#d8576b"
             ],
             [
              0.6666666666666666,
              "#ed7953"
             ],
             [
              0.7777777777777778,
              "#fb9f3a"
             ],
             [
              0.8888888888888888,
              "#fdca26"
             ],
             [
              1,
              "#f0f921"
             ]
            ],
            "type": "heatmapgl"
           }
          ],
          "histogram": [
           {
            "marker": {
             "pattern": {
              "fillmode": "overlay",
              "size": 10,
              "solidity": 0.2
             }
            },
            "type": "histogram"
           }
          ],
          "histogram2d": [
           {
            "colorbar": {
             "outlinewidth": 0,
             "ticks": ""
            },
            "colorscale": [
             [
              0,
              "#0d0887"
             ],
             [
              0.1111111111111111,
              "#46039f"
             ],
             [
              0.2222222222222222,
              "#7201a8"
             ],
             [
              0.3333333333333333,
              "#9c179e"
             ],
             [
              0.4444444444444444,
              "#bd3786"
             ],
             [
              0.5555555555555556,
              "#d8576b"
             ],
             [
              0.6666666666666666,
              "#ed7953"
             ],
             [
              0.7777777777777778,
              "#fb9f3a"
             ],
             [
              0.8888888888888888,
              "#fdca26"
             ],
             [
              1,
              "#f0f921"
             ]
            ],
            "type": "histogram2d"
           }
          ],
          "histogram2dcontour": [
           {
            "colorbar": {
             "outlinewidth": 0,
             "ticks": ""
            },
            "colorscale": [
             [
              0,
              "#0d0887"
             ],
             [
              0.1111111111111111,
              "#46039f"
             ],
             [
              0.2222222222222222,
              "#7201a8"
             ],
             [
              0.3333333333333333,
              "#9c179e"
             ],
             [
              0.4444444444444444,
              "#bd3786"
             ],
             [
              0.5555555555555556,
              "#d8576b"
             ],
             [
              0.6666666666666666,
              "#ed7953"
             ],
             [
              0.7777777777777778,
              "#fb9f3a"
             ],
             [
              0.8888888888888888,
              "#fdca26"
             ],
             [
              1,
              "#f0f921"
             ]
            ],
            "type": "histogram2dcontour"
           }
          ],
          "mesh3d": [
           {
            "colorbar": {
             "outlinewidth": 0,
             "ticks": ""
            },
            "type": "mesh3d"
           }
          ],
          "parcoords": [
           {
            "line": {
             "colorbar": {
              "outlinewidth": 0,
              "ticks": ""
             }
            },
            "type": "parcoords"
           }
          ],
          "pie": [
           {
            "automargin": true,
            "type": "pie"
           }
          ],
          "scatter": [
           {
            "fillpattern": {
             "fillmode": "overlay",
             "size": 10,
             "solidity": 0.2
            },
            "type": "scatter"
           }
          ],
          "scatter3d": [
           {
            "line": {
             "colorbar": {
              "outlinewidth": 0,
              "ticks": ""
             }
            },
            "marker": {
             "colorbar": {
              "outlinewidth": 0,
              "ticks": ""
             }
            },
            "type": "scatter3d"
           }
          ],
          "scattercarpet": [
           {
            "marker": {
             "colorbar": {
              "outlinewidth": 0,
              "ticks": ""
             }
            },
            "type": "scattercarpet"
           }
          ],
          "scattergeo": [
           {
            "marker": {
             "colorbar": {
              "outlinewidth": 0,
              "ticks": ""
             }
            },
            "type": "scattergeo"
           }
          ],
          "scattergl": [
           {
            "marker": {
             "colorbar": {
              "outlinewidth": 0,
              "ticks": ""
             }
            },
            "type": "scattergl"
           }
          ],
          "scattermapbox": [
           {
            "marker": {
             "colorbar": {
              "outlinewidth": 0,
              "ticks": ""
             }
            },
            "type": "scattermapbox"
           }
          ],
          "scatterpolar": [
           {
            "marker": {
             "colorbar": {
              "outlinewidth": 0,
              "ticks": ""
             }
            },
            "type": "scatterpolar"
           }
          ],
          "scatterpolargl": [
           {
            "marker": {
             "colorbar": {
              "outlinewidth": 0,
              "ticks": ""
             }
            },
            "type": "scatterpolargl"
           }
          ],
          "scatterternary": [
           {
            "marker": {
             "colorbar": {
              "outlinewidth": 0,
              "ticks": ""
             }
            },
            "type": "scatterternary"
           }
          ],
          "surface": [
           {
            "colorbar": {
             "outlinewidth": 0,
             "ticks": ""
            },
            "colorscale": [
             [
              0,
              "#0d0887"
             ],
             [
              0.1111111111111111,
              "#46039f"
             ],
             [
              0.2222222222222222,
              "#7201a8"
             ],
             [
              0.3333333333333333,
              "#9c179e"
             ],
             [
              0.4444444444444444,
              "#bd3786"
             ],
             [
              0.5555555555555556,
              "#d8576b"
             ],
             [
              0.6666666666666666,
              "#ed7953"
             ],
             [
              0.7777777777777778,
              "#fb9f3a"
             ],
             [
              0.8888888888888888,
              "#fdca26"
             ],
             [
              1,
              "#f0f921"
             ]
            ],
            "type": "surface"
           }
          ],
          "table": [
           {
            "cells": {
             "fill": {
              "color": "#EBF0F8"
             },
             "line": {
              "color": "white"
             }
            },
            "header": {
             "fill": {
              "color": "#C8D4E3"
             },
             "line": {
              "color": "white"
             }
            },
            "type": "table"
           }
          ]
         },
         "layout": {
          "annotationdefaults": {
           "arrowcolor": "#2a3f5f",
           "arrowhead": 0,
           "arrowwidth": 1
          },
          "autotypenumbers": "strict",
          "coloraxis": {
           "colorbar": {
            "outlinewidth": 0,
            "ticks": ""
           }
          },
          "colorscale": {
           "diverging": [
            [
             0,
             "#8e0152"
            ],
            [
             0.1,
             "#c51b7d"
            ],
            [
             0.2,
             "#de77ae"
            ],
            [
             0.3,
             "#f1b6da"
            ],
            [
             0.4,
             "#fde0ef"
            ],
            [
             0.5,
             "#f7f7f7"
            ],
            [
             0.6,
             "#e6f5d0"
            ],
            [
             0.7,
             "#b8e186"
            ],
            [
             0.8,
             "#7fbc41"
            ],
            [
             0.9,
             "#4d9221"
            ],
            [
             1,
             "#276419"
            ]
           ],
           "sequential": [
            [
             0,
             "#0d0887"
            ],
            [
             0.1111111111111111,
             "#46039f"
            ],
            [
             0.2222222222222222,
             "#7201a8"
            ],
            [
             0.3333333333333333,
             "#9c179e"
            ],
            [
             0.4444444444444444,
             "#bd3786"
            ],
            [
             0.5555555555555556,
             "#d8576b"
            ],
            [
             0.6666666666666666,
             "#ed7953"
            ],
            [
             0.7777777777777778,
             "#fb9f3a"
            ],
            [
             0.8888888888888888,
             "#fdca26"
            ],
            [
             1,
             "#f0f921"
            ]
           ],
           "sequentialminus": [
            [
             0,
             "#0d0887"
            ],
            [
             0.1111111111111111,
             "#46039f"
            ],
            [
             0.2222222222222222,
             "#7201a8"
            ],
            [
             0.3333333333333333,
             "#9c179e"
            ],
            [
             0.4444444444444444,
             "#bd3786"
            ],
            [
             0.5555555555555556,
             "#d8576b"
            ],
            [
             0.6666666666666666,
             "#ed7953"
            ],
            [
             0.7777777777777778,
             "#fb9f3a"
            ],
            [
             0.8888888888888888,
             "#fdca26"
            ],
            [
             1,
             "#f0f921"
            ]
           ]
          },
          "colorway": [
           "#636efa",
           "#EF553B",
           "#00cc96",
           "#ab63fa",
           "#FFA15A",
           "#19d3f3",
           "#FF6692",
           "#B6E880",
           "#FF97FF",
           "#FECB52"
          ],
          "font": {
           "color": "#2a3f5f"
          },
          "geo": {
           "bgcolor": "white",
           "lakecolor": "white",
           "landcolor": "#E5ECF6",
           "showlakes": true,
           "showland": true,
           "subunitcolor": "white"
          },
          "hoverlabel": {
           "align": "left"
          },
          "hovermode": "closest",
          "mapbox": {
           "style": "light"
          },
          "paper_bgcolor": "white",
          "plot_bgcolor": "#E5ECF6",
          "polar": {
           "angularaxis": {
            "gridcolor": "white",
            "linecolor": "white",
            "ticks": ""
           },
           "bgcolor": "#E5ECF6",
           "radialaxis": {
            "gridcolor": "white",
            "linecolor": "white",
            "ticks": ""
           }
          },
          "scene": {
           "xaxis": {
            "backgroundcolor": "#E5ECF6",
            "gridcolor": "white",
            "gridwidth": 2,
            "linecolor": "white",
            "showbackground": true,
            "ticks": "",
            "zerolinecolor": "white"
           },
           "yaxis": {
            "backgroundcolor": "#E5ECF6",
            "gridcolor": "white",
            "gridwidth": 2,
            "linecolor": "white",
            "showbackground": true,
            "ticks": "",
            "zerolinecolor": "white"
           },
           "zaxis": {
            "backgroundcolor": "#E5ECF6",
            "gridcolor": "white",
            "gridwidth": 2,
            "linecolor": "white",
            "showbackground": true,
            "ticks": "",
            "zerolinecolor": "white"
           }
          },
          "shapedefaults": {
           "line": {
            "color": "#2a3f5f"
           }
          },
          "ternary": {
           "aaxis": {
            "gridcolor": "white",
            "linecolor": "white",
            "ticks": ""
           },
           "baxis": {
            "gridcolor": "white",
            "linecolor": "white",
            "ticks": ""
           },
           "bgcolor": "#E5ECF6",
           "caxis": {
            "gridcolor": "white",
            "linecolor": "white",
            "ticks": ""
           }
          },
          "title": {
           "x": 0.05
          },
          "xaxis": {
           "automargin": true,
           "gridcolor": "white",
           "linecolor": "white",
           "ticks": "",
           "title": {
            "standoff": 15
           },
           "zerolinecolor": "white",
           "zerolinewidth": 2
          },
          "yaxis": {
           "automargin": true,
           "gridcolor": "white",
           "linecolor": "white",
           "ticks": "",
           "title": {
            "standoff": 15
           },
           "zerolinecolor": "white",
           "zerolinewidth": 2
          }
         }
        },
        "title": {
         "text": "Duration of behavior trials (s)"
        },
        "xaxis": {
         "anchor": "y",
         "domain": [
          0,
          1
         ],
         "title": {
          "text": "duration"
         }
        },
        "yaxis": {
         "anchor": "x",
         "domain": [
          0,
          1
         ],
         "title": {
          "text": "count"
         }
        }
       }
      }
     },
     "metadata": {},
     "output_type": "display_data"
    }
   ],
   "source": [
    "px.histogram(\n",
    "    doc_behavior,\n",
    "    x='duration', \n",
    "    nbins=100, \n",
    "    title='Duration of behavior trials (s)'\n",
    ")"
   ]
  },
  {
   "cell_type": "code",
   "execution_count": 68,
   "metadata": {},
   "outputs": [
    {
     "data": {
      "application/vnd.plotly.v1+json": {
       "config": {
        "plotlyServerURL": "https://plot.ly"
       },
       "data": [
        {
         "alignmentgroup": "True",
         "bingroup": "x",
         "hovertemplate": "variable=0<br>value=%{x}<br>count=%{y}<extra></extra>",
         "legendgroup": "0",
         "marker": {
          "color": "#636efa",
          "pattern": {
           "shape": ""
          }
         },
         "name": "0",
         "offsetgroup": "0",
         "orientation": "v",
         "showlegend": true,
         "type": "histogram",
         "x": [
          "EC3",
          "EC3",
          "EC3",
          "EC3",
          "EC3",
          "EC3",
          "EC3",
          "EC3",
          "EC3",
          "EC3",
          "EC3",
          "EC3",
          "EC3",
          "EC3",
          "EC3",
          "EC3",
          "EC3",
          "EC3",
          "EC3",
          "EC3",
          "EC3",
          "EC3",
          "EC3",
          "EC3",
          "EC3",
          "EC3",
          "EC3",
          "EC3",
          "EC3",
          "EC3",
          "EC3",
          "EC3",
          "EC3",
          "EC3",
          "EC3",
          "EC3",
          "EC3",
          "EC3",
          "EC3",
          "EC3",
          "EC3",
          "EC3",
          "EC3",
          "EC3",
          "EC3",
          "EC3",
          "EC3",
          "EC3",
          "EC3",
          "EC3",
          "EC3",
          "EC3",
          "EC3",
          "EC3",
          "EC3",
          "EC3",
          "EC3",
          "EC3",
          "EC3",
          "EC3",
          "EC3",
          "EC3",
          "EC3",
          "EC3",
          "EC3",
          "EC3",
          "EC3",
          "EC3",
          "EC3",
          "EC3",
          "CA1",
          "CA1",
          "CA1",
          "CA1",
          "CA1",
          "CA1",
          "CA1",
          "CA1",
          "CA1",
          "CA1",
          "CA1",
          "CA1",
          "CA1",
          "CA1",
          "CA1",
          "CA1",
          "CA1",
          "CA1",
          "CA1",
          "CA1",
          "CA1",
          "CA1",
          "CA1",
          "CA1",
          "CA1",
          "CA1",
          "CA1",
          "CA1",
          "CA1",
          "CA1",
          "CA1",
          "CA1",
          "CA1",
          "CA1",
          "CA1",
          "CA1",
          "CA1",
          "CA1",
          "CA1",
          "CA1",
          "CA1",
          "CA1",
          "CA1",
          "CA1",
          "CA1",
          "CA1",
          "CA1",
          "CA1",
          "CA1",
          "CA1",
          "CA1",
          "CA1",
          "CA1",
          "CA1",
          "CA1",
          "CA1",
          "CA1",
          "CA1",
          "CA1",
          "CA1",
          "CA1",
          "CA1",
          "CA1",
          "CA1",
          "CA1",
          "CA1",
          "CA1",
          "CA1",
          "CA1",
          "CA1",
          "CA1",
          "CA1",
          "CA1",
          "CA1",
          "CA1",
          "CA1",
          "CA1",
          "CA1",
          "CA1",
          "CA1",
          "CA1",
          "CA1",
          "CA1",
          "CA1",
          "CA1",
          "CA1",
          "CA1",
          "CA1",
          "CA1",
          "CA1",
          "CA1",
          "CA1",
          "CA1",
          "CA1",
          "CA1",
          "CA1",
          "CA1",
          "CA1",
          "CA1",
          "CA1",
          "CA1",
          "CA1",
          "CA1",
          "CA1",
          "CA1",
          "CA1",
          "CA1",
          "CA1",
          "CA1",
          "CA1",
          "CA1",
          "CA1",
          "CA1",
          "CA1",
          "CA1",
          "CA1",
          "CA1",
          "CA1",
          "CA1",
          "CA1",
          "CA1",
          "CA1",
          "CA1",
          "CA1",
          "CA1",
          "CA1",
          "CA1",
          "CA1",
          "CA1",
          "CA1",
          "CA1",
          "CA1",
          "CA1",
          "CA1",
          "CA1",
          "CA1",
          "CA1",
          "CA1",
          "CA1",
          "CA1",
          "CA1",
          "CA1",
          "CA1",
          "CA1",
          "CA1",
          "CA1",
          "CA1",
          "CA1",
          "CA1",
          "CA1",
          "CA1",
          "CA1",
          "CA1",
          "CA1",
          "CA1",
          "CA1",
          "CA1",
          "CA1",
          "CA1",
          "CA1",
          "CA1",
          "CA1",
          "CA1",
          "CA1",
          "CA1",
          "CA1",
          "CA1",
          "CA1",
          "CA1",
          "CA1",
          "CA1",
          "CA1",
          "CA1",
          "CA1",
          "DG",
          "DGCA3",
          "DGCA3",
          "DGCA3",
          "DGCA3",
          "DGCA3",
          "DGCA3",
          "CA3",
          "CA3",
          "CA3",
          "CA3",
          "CA3",
          "CA3",
          "CA3",
          "CA3",
          "CA3",
          "CA3",
          "CA3",
          "CA3",
          "CA3",
          "CA3",
          "CA3",
          "CA3",
          "CA3",
          "CA3",
          "CA3",
          "CA3",
          "CA3",
          "CA3",
          "CA3",
          "CA3",
          "CA3",
          "CA3",
          "CA3",
          "CA1",
          "CA1",
          "CA1",
          "CA1",
          "CA1",
          "CA1",
          "CA1",
          "CA1",
          "CA1",
          "CA1",
          "CA1",
          "CA1",
          "CA1",
          "CA1",
          "CA1",
          "CA1",
          "CA1",
          "CA1",
          "CA1",
          "CA1",
          "CA1",
          "CA1",
          "CA1",
          "CA1",
          "CA1",
          "CA1",
          "CA1",
          "CA1",
          "CA1",
          "CA1",
          "CA1",
          "CA1",
          "CA1",
          "CA1",
          "CA1",
          "CA1",
          "CA1",
          "CA1",
          "CA1",
          "CA1",
          "CA1",
          "CA1",
          "CA1",
          "CA1",
          "CA1",
          "CA1",
          "CA1",
          "CA1",
          "CA1",
          "CA1",
          "CA1",
          "CA1",
          "CA1",
          "CA1",
          "CA1",
          "CA1",
          "CA1",
          "CA1",
          "CA1",
          "CA1",
          "CA1",
          "CA1",
          "CA1",
          "CA1",
          "CA1",
          "CA1",
          "CA1",
          "CA1",
          "CA1",
          "CA3",
          "CA3",
          "CA3",
          "CA3",
          "CA3",
          "CA3",
          "CA3",
          "CA3",
          "CA3",
          "CA3",
          "CA3",
          "CA3",
          "CA3",
          "CA3",
          "CA3",
          "CA3",
          "CA3",
          "CA3",
          "CA3",
          "CA3",
          "CA3",
          "CA3",
          "CA3",
          "CA3",
          "CA3",
          "CA3",
          "CA3",
          "CA3",
          "CA3",
          "CA3",
          "CA3",
          "CA3",
          "CA3",
          "CA3",
          "CA3",
          "CA3",
          "CA3",
          "CA3",
          "CA3",
          "CA3",
          "CA1",
          "CA1",
          "CA1",
          "CA1",
          "CA1",
          "CA1",
          "CA1",
          "CA1",
          "CA1",
          "CA1",
          "CA1",
          "CA1",
          "CA1",
          "CA1",
          "CA1",
          "CA1",
          "CA1",
          "CA1",
          "CA1",
          "CA1",
          "CA1",
          "CA1",
          "CA1",
          "CA1",
          "CA1",
          "CA1",
          "CA1",
          "CA1",
          "CA1",
          "CA1",
          "CA1",
          "CA1",
          "CA1",
          "CA1",
          "CA1",
          "CA1",
          "CA1",
          "CA1",
          "CA1",
          "CA1",
          "CA1",
          "CA1",
          "CA1c",
          "CA1c",
          "CA1c",
          "CA1",
          "CA1",
          "CA1",
          "CA1",
          "CA1",
          "CA1",
          "CA",
          "CA",
          "CA",
          "CA"
         ],
         "xaxis": "x",
         "yaxis": "y"
        },
        {
         "alignmentgroup": "True",
         "bingroup": "x",
         "hovertemplate": "variable=1<br>value=%{x}<br>count=%{y}<extra></extra>",
         "legendgroup": "1",
         "marker": {
          "color": "#EF553B",
          "pattern": {
           "shape": ""
          }
         },
         "name": "1",
         "offsetgroup": "1",
         "orientation": "v",
         "showlegend": true,
         "type": "histogram",
         "x": [
          "EC5",
          "EC5",
          "EC5",
          "EC5",
          "EC5",
          "EC5",
          "EC5",
          "EC5",
          "EC5",
          "EC5",
          "EC5",
          "EC5",
          "EC5",
          "EC5",
          "EC5",
          "EC5",
          "EC5",
          "EC5",
          "EC5",
          "EC5",
          "EC5",
          "EC5",
          "EC5",
          "EC5",
          "EC5",
          "EC5",
          "EC5",
          "EC5",
          "EC5",
          "EC5",
          "EC5",
          "EC5",
          "EC5",
          "EC5",
          "EC5",
          "EC5",
          "EC5",
          "EC5",
          "EC5",
          "EC5",
          "EC5",
          "EC5",
          "EC5",
          "EC5",
          "EC5",
          "EC5",
          "EC5",
          "EC5",
          "EC5",
          "EC5",
          "EC5",
          "EC5",
          "EC5",
          "EC5",
          "EC5",
          "EC5",
          "EC5",
          "EC5",
          "EC5",
          "EC5",
          "EC5",
          "EC5",
          "EC5",
          "EC5",
          "EC5",
          "EC5",
          "EC5",
          "EC5",
          "EC5",
          "EC5",
          "EC3",
          "EC3",
          "EC3",
          "EC3",
          "EC3",
          "EC3",
          "EC3",
          "EC3",
          "EC3",
          "EC3",
          "EC3",
          "EC3",
          "EC3",
          "EC3",
          "EC3",
          "EC3",
          "EC3",
          "EC3",
          "EC3",
          "EC3",
          "EC3",
          "EC3",
          "EC3",
          "EC3",
          "EC3",
          "EC3",
          "EC3",
          "EC3",
          "EC3",
          "EC3",
          "EC3",
          "EC3",
          "EC3",
          "EC3",
          "EC3",
          "EC3",
          "EC3",
          "EC3",
          "EC3",
          "EC3",
          "EC3",
          "EC3",
          "EC3",
          "EC3",
          "EC3",
          "EC3",
          "EC3",
          "EC3",
          "EC3",
          "EC3",
          "EC3",
          "EC3",
          "EC3",
          "EC3",
          "EC3",
          "EC3",
          "EC3",
          "EC3",
          "EC3",
          "EC3",
          "EC3",
          "EC3",
          "EC2",
          "EC2",
          "EC2",
          "EC2",
          "EC2",
          "EC2",
          "EC2",
          "EC2",
          "EC2",
          "EC2",
          "EC2",
          "EC2",
          "EC2",
          "EC2",
          "EC2",
          "EC2",
          "EC2",
          "EC2",
          "EC2",
          "EC2",
          "EC2",
          "EC2",
          "EC2",
          "EC2",
          "EC2",
          "EC2",
          "EC2",
          "EC2",
          "EC2",
          "EC2",
          "EC2",
          "EC2",
          "EC2",
          "EC2",
          "EC2",
          "EC2",
          "EC2",
          "EC2",
          "EC2",
          "EC2",
          "EC2",
          "EC2",
          "EC2",
          "EC2",
          "EC2",
          "EC2",
          "EC2",
          "EC2",
          "EC2",
          "EC2",
          "EC2",
          "EC2",
          "EC2",
          "EC2",
          "EC2",
          "EC2",
          "EC2",
          "EC2",
          "EC2",
          "EC2",
          "EC2",
          "EC2",
          "EC2",
          "EC2",
          "EC2",
          "EC2",
          "EC2",
          "EC2",
          "EC2",
          "EC2",
          "EC2",
          "EC2",
          "EC2",
          "EC2",
          "EC2",
          "EC2",
          "EC2",
          "EC2",
          "EC2",
          "EC2",
          "EC2",
          "EC2",
          "EC2",
          "EC2",
          "EC2",
          "EC2",
          "EC2",
          "EC2",
          "EC2",
          "EC2",
          "EC2",
          "EC2",
          "EC2",
          "EC2",
          "EC2",
          "EC2",
          "EC2",
          "EC2",
          "EC2",
          "EC2",
          "EC2",
          "EC2",
          "EC2",
          "EC2",
          "EC2",
          "EC2",
          "EC2",
          "EC2",
          "EC2",
          "EC2",
          "EC2",
          "EC2",
          "EC2",
          "EC2",
          "EC2",
          "EC2",
          "EC2",
          "EC2",
          "EC2",
          "EC2",
          "EC2",
          "EC2",
          "EC2",
          "EC2",
          "EC2",
          "EC2",
          "EC2",
          "EC2",
          "EC2",
          "EC2",
          "EC2",
          "EC2",
          "EC2",
          "EC2",
          "EC2",
          "EC2",
          "EC2",
          "EC2",
          "EC2",
          "EC2",
          "EC2",
          "EC2",
          "EC2",
          "EC2",
          "EC2",
          "EC2",
          "EC2",
          "EC2",
          "EC2",
          "EC2",
          "EC2",
          "EC2",
          "EC2",
          "EC2",
          "EC2",
          "EC2",
          "EC2",
          "EC2",
          "EC2",
          "EC2",
          "EC2",
          "EC2",
          "EC2",
          "EC2",
          "EC2",
          "EC2",
          "EC2",
          "EC2",
          "EC2",
          "EC2",
          "EC2",
          "EC2",
          "EC2",
          "EC2",
          "EC2",
          "EC2",
          "EC2",
          "EC2",
          "EC2",
          "EC2",
          "EC2",
          "EC2",
          "EC2",
          "EC2",
          "EC2",
          "EC2",
          "EC2",
          "EC2",
          "EC2",
          "EC2",
          "EC2",
          "EC2",
          "EC2",
          "EC2",
          "EC2",
          "EC2",
          "EC3",
          "EC3",
          "EC3",
          "EC3",
          "EC3",
          "EC3",
          "EC3",
          "EC3",
          "EC3",
          "EC3",
          "EC3",
          "EC3",
          "EC3",
          "EC3",
          "EC3",
          "EC3",
          "EC3",
          "EC3",
          "EC3",
          "DG",
          "DG",
          "DG",
          "DG",
          "DG",
          "DG",
          "DG",
          "DG",
          "DG",
          "DG",
          "DG",
          "DG",
          "DG",
          "DG",
          "DG",
          "DG",
          "DG",
          "DG",
          "DG",
          "DG",
          "DG",
          "DG",
          "DG",
          "DG",
          "DG",
          "DG",
          "DG",
          "DG",
          "DG",
          "DG",
          "DG",
          "DG",
          "DG",
          "DG",
          "DG",
          "DG",
          "DG",
          "DG",
          "DG",
          "DG",
          "CA3",
          "CA3",
          "CA3",
          "CA3",
          "CA3",
          "CA3",
          "CA3",
          "CA3",
          "CA3",
          "CA3",
          "CA3",
          "CA3",
          "CA3",
          "CA3",
          "CA3",
          "CA3",
          "CA3",
          "CA3",
          "CA3",
          "CA3",
          "CA3",
          "CA3",
          "CA3",
          "CA3",
          "CA3",
          "CA3",
          "CA3",
          null,
          null,
          null,
          null,
          null,
          null,
          null,
          null,
          null,
          null,
          null,
          null,
          null,
          null,
          null,
          "Ctx",
          "Ctx",
          "Ctx",
          "CA1c",
          "CA1c",
          "CA1c",
          "CA1c",
          "CA1c",
          "CA1c",
          null,
          null,
          null,
          null
         ],
         "xaxis": "x",
         "yaxis": "y"
        },
        {
         "alignmentgroup": "True",
         "bingroup": "x",
         "hovertemplate": "variable=2<br>value=%{x}<br>count=%{y}<extra></extra>",
         "legendgroup": "2",
         "marker": {
          "color": "#00cc96",
          "pattern": {
           "shape": ""
          }
         },
         "name": "2",
         "offsetgroup": "2",
         "orientation": "v",
         "showlegend": true,
         "type": "histogram",
         "x": [
          null,
          null,
          null,
          null,
          null,
          null,
          null,
          null,
          null,
          null,
          null,
          null,
          null,
          null,
          null,
          null,
          null,
          null,
          null,
          null,
          null,
          null,
          null,
          null,
          null,
          null,
          null,
          null,
          null,
          null,
          null,
          null,
          null,
          null,
          null,
          null,
          null,
          null,
          null,
          null,
          null,
          null,
          null,
          null,
          null,
          null,
          null,
          null,
          null,
          null,
          null,
          null,
          null,
          null,
          null,
          null,
          null,
          null,
          null,
          null,
          null,
          null,
          null,
          null,
          null,
          null,
          null,
          null,
          null,
          null,
          "EC4",
          "EC4",
          "EC4",
          "EC4",
          "EC4",
          "EC4",
          "EC4",
          "EC4",
          "EC4",
          "EC4",
          "EC4",
          "EC4",
          "EC4",
          "EC4",
          "EC4",
          "EC4",
          "EC4",
          "EC4",
          "EC4",
          "EC4",
          "EC4",
          "EC4",
          "EC4",
          "EC4",
          "EC4",
          "EC4",
          "EC4",
          "EC4",
          "EC4",
          "EC4",
          "EC4",
          "EC4",
          "EC4",
          "EC4",
          "EC4",
          "EC4",
          "EC4",
          "EC4",
          "EC4",
          "EC4",
          "EC4",
          "EC4",
          "EC4",
          "EC4",
          "EC4",
          "EC4",
          "EC4",
          "EC4",
          "EC4",
          "EC4",
          "EC4",
          "EC4",
          "EC4",
          "EC4",
          "EC4",
          "EC4",
          "EC4",
          "EC4",
          "EC4",
          "EC4",
          "EC4",
          "EC4",
          "EC3",
          "EC3",
          "EC3",
          "EC3",
          "EC3",
          "EC3",
          "EC3",
          "EC3",
          "EC3",
          "EC3",
          "EC3",
          "EC3",
          "EC3",
          "EC3",
          "EC3",
          "EC3",
          "EC3",
          "EC3",
          "EC3",
          "EC3",
          "EC3",
          "EC3",
          "EC3",
          "EC3",
          "EC3",
          "EC3",
          "EC3",
          "EC3",
          "EC3",
          "EC3",
          "EC3",
          "EC3",
          "EC3",
          "EC3",
          "EC3",
          "EC3",
          "EC3",
          "EC3",
          "EC3",
          "EC3",
          "EC3",
          "EC3",
          "EC3",
          "EC3",
          "EC3",
          "EC3",
          "EC3",
          "EC3",
          "EC3",
          "EC3",
          "EC3",
          "EC3",
          "EC3",
          "EC3",
          "EC3",
          "EC3",
          "EC3",
          "EC3",
          "EC3",
          "EC3",
          "EC3",
          "EC3",
          "EC3",
          "EC3",
          "EC3",
          "EC3",
          "EC3",
          "EC3",
          "EC3",
          "EC3",
          "EC3",
          "EC3",
          "EC3",
          "EC3",
          "EC3",
          "EC3",
          "EC3",
          "EC3",
          "EC3",
          "EC3",
          "EC3",
          "EC3",
          "EC3",
          "EC3",
          "EC3",
          "EC3",
          "EC3",
          "EC3",
          "EC3",
          "EC3",
          "EC3",
          "EC3",
          "EC3",
          "EC3",
          "EC3",
          "EC3",
          "EC3",
          "EC3",
          "EC3",
          "EC3",
          "EC3",
          "EC3",
          "EC3",
          "EC3",
          "EC3",
          "EC3",
          "EC3",
          "EC3",
          "EC3",
          "EC3",
          "EC3",
          "EC3",
          "EC3",
          "EC3",
          "EC3",
          "EC3",
          "EC3",
          "EC3",
          "EC3",
          "EC3",
          "EC3",
          "EC3",
          "EC3",
          "EC3",
          "EC3",
          "EC3",
          "EC3",
          "EC3",
          "EC3",
          "EC3",
          "EC3",
          "EC3",
          "EC3",
          "EC3",
          "EC3",
          "EC3",
          "EC3",
          "EC3",
          "EC3",
          "EC3",
          "EC3",
          "EC3",
          "EC3",
          "EC3",
          "EC3",
          "EC3",
          "EC3",
          "EC3",
          "EC3",
          "EC3",
          "EC3",
          "EC3",
          "EC3",
          "EC3",
          "EC3",
          "EC3",
          "EC3",
          "EC3",
          "EC3",
          "EC3",
          "EC3",
          "EC3",
          "EC3",
          "EC3",
          "EC3",
          "EC3",
          "EC3",
          "EC3",
          "EC3",
          "EC3",
          "EC3",
          "EC3",
          "EC3",
          "EC3",
          "EC3",
          "EC3",
          "EC3",
          "EC3",
          "EC3",
          "EC3",
          "EC3",
          "EC3",
          "EC3",
          "EC3",
          "EC3",
          "EC3",
          "EC3",
          "EC3",
          "EC3",
          "EC3",
          "EC3",
          "EC3",
          "EC3",
          "EC3",
          "EC3",
          "EC3",
          "EC4",
          "EC4",
          "EC4",
          "EC4",
          "EC4",
          "EC4",
          "EC4",
          "EC4",
          "EC4",
          "EC4",
          "EC4",
          "EC4",
          "EC4",
          "EC4",
          "EC4",
          "EC4",
          "EC4",
          "EC4",
          "EC4",
          "EC2",
          "EC2",
          "EC2",
          "EC2",
          "EC2",
          "EC2",
          "EC2",
          "EC2",
          "EC2",
          "EC2",
          "EC2",
          "EC2",
          "EC2",
          "EC2",
          "EC2",
          "EC2",
          "EC2",
          "EC2",
          "EC2",
          "EC2",
          "EC2",
          "EC2",
          "EC2",
          "EC2",
          "EC2",
          "EC2",
          "EC2",
          "EC2",
          "EC2",
          "EC2",
          "EC2",
          "EC2",
          "EC2",
          "EC2",
          "EC2",
          "EC2",
          "EC2",
          "EC2",
          "EC2",
          "EC2",
          null,
          null,
          null,
          null,
          null,
          null,
          null,
          null,
          null,
          null,
          null,
          null,
          null,
          null,
          null,
          null,
          null,
          null,
          null,
          null,
          null,
          null,
          null,
          null,
          null,
          null,
          null,
          null,
          null,
          null,
          null,
          null,
          null,
          null,
          null,
          null,
          null,
          null,
          null,
          null,
          null,
          null,
          "EC11",
          "EC11",
          "EC11",
          "EC11",
          "EC11",
          "EC11",
          "EC11",
          "EC11",
          "EC11",
          null,
          null,
          null,
          null
         ],
         "xaxis": "x",
         "yaxis": "y"
        },
        {
         "alignmentgroup": "True",
         "bingroup": "x",
         "hovertemplate": "variable=3<br>value=%{x}<br>count=%{y}<extra></extra>",
         "legendgroup": "3",
         "marker": {
          "color": "#ab63fa",
          "pattern": {
           "shape": ""
          }
         },
         "name": "3",
         "offsetgroup": "3",
         "orientation": "v",
         "showlegend": true,
         "type": "histogram",
         "x": [
          null,
          null,
          null,
          null,
          null,
          null,
          null,
          null,
          null,
          null,
          null,
          null,
          null,
          null,
          null,
          null,
          null,
          null,
          null,
          null,
          null,
          null,
          null,
          null,
          null,
          null,
          null,
          null,
          null,
          null,
          null,
          null,
          null,
          null,
          null,
          null,
          null,
          null,
          null,
          null,
          null,
          null,
          null,
          null,
          null,
          null,
          null,
          null,
          null,
          null,
          null,
          null,
          null,
          null,
          null,
          null,
          null,
          null,
          null,
          null,
          null,
          null,
          null,
          null,
          null,
          null,
          null,
          null,
          null,
          null,
          "EC5",
          "EC5",
          "EC5",
          "EC5",
          "EC5",
          "EC5",
          "EC5",
          "EC5",
          "EC5",
          "EC5",
          "EC5",
          "EC5",
          "EC5",
          "EC5",
          "EC5",
          "EC5",
          "EC5",
          "EC5",
          "EC5",
          "EC5",
          "EC5",
          "EC5",
          "EC5",
          "EC5",
          "EC5",
          "EC5",
          "EC5",
          "EC5",
          "EC5",
          "EC5",
          "EC5",
          "EC5",
          "EC5",
          "EC5",
          "EC5",
          "EC5",
          "EC5",
          "EC5",
          "EC5",
          "EC5",
          "EC5",
          "EC5",
          "EC5",
          "EC5",
          "EC5",
          "EC5",
          "EC5",
          "EC5",
          "EC5",
          "EC5",
          "EC5",
          "EC5",
          "EC5",
          "EC5",
          "EC5",
          "EC5",
          "EC5",
          "EC5",
          "EC5",
          "EC5",
          "EC5",
          "EC5",
          "EC4",
          "EC4",
          "EC4",
          "EC4",
          "EC4",
          "EC4",
          "EC4",
          "EC4",
          "EC4",
          "EC4",
          "EC4",
          "EC4",
          "EC4",
          "EC4",
          "EC4",
          "EC4",
          "EC4",
          "EC4",
          "EC4",
          "EC4",
          "EC4",
          "EC4",
          "EC4",
          "EC4",
          "EC4",
          "EC4",
          "EC4",
          "EC4",
          "EC4",
          "EC4",
          "EC4",
          "EC4",
          "EC4",
          "EC4",
          "EC4",
          "EC4",
          "EC4",
          "EC4",
          "EC4",
          "EC4",
          "EC4",
          "EC4",
          "EC4",
          "EC4",
          "EC4",
          "EC4",
          "EC4",
          "EC4",
          "EC4",
          "EC4",
          "EC4",
          "EC4",
          "EC4",
          "EC4",
          "EC4",
          "EC4",
          "EC4",
          "EC4",
          "EC4",
          "EC4",
          "EC4",
          "EC4",
          "EC4",
          "EC4",
          "EC4",
          "EC4",
          "EC4",
          "EC4",
          "EC4",
          "EC4",
          "EC4",
          "EC4",
          "EC4",
          "EC4",
          "EC4",
          "EC4",
          "EC4",
          "EC4",
          "EC4",
          "EC4",
          "EC4",
          "EC4",
          "EC4",
          "EC4",
          "EC4",
          "EC4",
          "EC4",
          "EC4",
          "EC4",
          "EC4",
          "EC4",
          "EC4",
          "EC4",
          "EC4",
          "EC4",
          "EC4",
          "EC4",
          "EC4",
          "EC4",
          "EC4",
          "EC4",
          "EC4",
          "EC4",
          "EC4",
          "EC4",
          "EC4",
          "EC4",
          "EC4",
          "EC4",
          "EC4",
          "EC4",
          "EC4",
          "EC4",
          "EC4",
          "EC4",
          "EC4",
          "EC4",
          "EC4",
          "EC4",
          "EC4",
          "EC4",
          "EC4",
          "EC4",
          "EC4",
          "EC4",
          "EC4",
          "EC4",
          "EC4",
          "EC4",
          "EC4",
          "EC4",
          "EC4",
          "EC4",
          "EC4",
          "EC5",
          "EC5",
          "EC5",
          "EC5",
          "EC5",
          "EC5",
          "EC5",
          "EC5",
          "EC5",
          "EC5",
          "EC5",
          "EC5",
          "EC5",
          "EC5",
          "EC5",
          "EC5",
          "EC5",
          "EC5",
          "EC5",
          "EC5",
          "EC5",
          "EC5",
          "EC5",
          "EC5",
          "EC5",
          "EC5",
          "EC5",
          "EC5",
          "EC5",
          "EC5",
          "EC5",
          "EC5",
          "EC5",
          "EC5",
          "EC5",
          "EC5",
          "EC5",
          "EC5",
          "EC5",
          "EC5",
          "EC5",
          "EC5",
          "EC5",
          "EC5",
          "EC5",
          "EC5",
          "EC5",
          "EC5",
          "EC5",
          "EC5",
          "EC5",
          "EC5",
          "EC5",
          "EC5",
          "EC5",
          "EC5",
          "EC5",
          "EC5",
          "EC5",
          "EC5",
          "EC5",
          "EC5",
          "EC5",
          "EC5",
          "EC5",
          "EC5",
          "EC5",
          "EC5",
          "EC5",
          "EC5",
          "EC5",
          "EC5",
          "EC5",
          "EC5",
          "EC5",
          "EC5",
          "EC5",
          "EC5",
          "EC5",
          "EC5",
          "EC5",
          "EC3",
          "EC3",
          "EC3",
          "EC3",
          "EC3",
          "EC3",
          "EC3",
          "EC3",
          "EC3",
          "EC3",
          "EC3",
          "EC3",
          "EC3",
          "EC3",
          "EC3",
          "EC3",
          "EC3",
          "EC3",
          "EC3",
          "EC3",
          "EC3",
          "EC3",
          "EC3",
          "EC3",
          "EC3",
          "EC3",
          "EC3",
          "EC3",
          "EC3",
          "EC3",
          "EC3",
          "EC3",
          "EC3",
          "EC3",
          "EC3",
          "EC3",
          "EC3",
          "EC3",
          "EC3",
          "EC3",
          null,
          null,
          null,
          null,
          null,
          null,
          null,
          null,
          null,
          null,
          null,
          null,
          null,
          null,
          null,
          null,
          null,
          null,
          null,
          null,
          null,
          null,
          null,
          null,
          null,
          null,
          null,
          null,
          null,
          null,
          null,
          null,
          null,
          null,
          null,
          null,
          null,
          null,
          null,
          null,
          null,
          null,
          "EC12",
          "EC12",
          "EC12",
          "EC12",
          "EC12",
          "EC12",
          "EC12",
          "EC12",
          "EC12",
          null,
          null,
          null,
          null
         ],
         "xaxis": "x",
         "yaxis": "y"
        },
        {
         "alignmentgroup": "True",
         "bingroup": "x",
         "hovertemplate": "variable=4<br>value=%{x}<br>count=%{y}<extra></extra>",
         "legendgroup": "4",
         "marker": {
          "color": "#FFA15A",
          "pattern": {
           "shape": ""
          }
         },
         "name": "4",
         "offsetgroup": "4",
         "orientation": "v",
         "showlegend": true,
         "type": "histogram",
         "x": [
          null,
          null,
          null,
          null,
          null,
          null,
          null,
          null,
          null,
          null,
          null,
          null,
          null,
          null,
          null,
          null,
          null,
          null,
          null,
          null,
          null,
          null,
          null,
          null,
          null,
          null,
          null,
          null,
          null,
          null,
          null,
          null,
          null,
          null,
          null,
          null,
          null,
          null,
          null,
          null,
          null,
          null,
          null,
          null,
          null,
          null,
          null,
          null,
          null,
          null,
          null,
          null,
          null,
          null,
          null,
          null,
          null,
          null,
          null,
          null,
          null,
          null,
          null,
          null,
          null,
          null,
          null,
          null,
          null,
          null,
          null,
          null,
          null,
          null,
          null,
          null,
          null,
          null,
          null,
          null,
          null,
          null,
          null,
          null,
          null,
          null,
          null,
          null,
          null,
          null,
          null,
          null,
          null,
          null,
          null,
          null,
          null,
          null,
          null,
          null,
          null,
          null,
          null,
          null,
          null,
          null,
          null,
          null,
          null,
          null,
          null,
          null,
          null,
          null,
          null,
          null,
          null,
          null,
          null,
          null,
          null,
          null,
          null,
          null,
          null,
          null,
          null,
          null,
          null,
          null,
          null,
          null,
          "EC5",
          "EC5",
          "EC5",
          "EC5",
          "EC5",
          "EC5",
          "EC5",
          "EC5",
          "EC5",
          "EC5",
          "EC5",
          "EC5",
          "EC5",
          "EC5",
          "EC5",
          "EC5",
          "EC5",
          "EC5",
          "EC5",
          "EC5",
          "EC5",
          "EC5",
          "EC5",
          "EC5",
          "EC5",
          "EC5",
          "EC5",
          "EC5",
          "EC5",
          "EC5",
          "EC5",
          "EC5",
          "EC5",
          "EC5",
          "EC5",
          "EC5",
          "EC5",
          "EC5",
          "EC5",
          "EC5",
          "EC5",
          "EC5",
          "EC5",
          "EC5",
          "EC5",
          "EC5",
          "EC5",
          "EC5",
          "EC5",
          "EC5",
          "EC5",
          "EC5",
          "EC5",
          "EC5",
          "EC5",
          "EC5",
          "EC5",
          "EC5",
          "EC5",
          "EC5",
          "EC5",
          "EC5",
          "EC5",
          "EC5",
          "EC5",
          "EC5",
          "EC5",
          "EC5",
          "EC5",
          "EC5",
          "EC5",
          "EC5",
          "EC5",
          "EC5",
          "EC5",
          "EC5",
          "EC5",
          "EC5",
          "EC5",
          "EC5",
          "EC5",
          "EC5",
          "EC5",
          "EC5",
          "EC5",
          "EC5",
          "EC5",
          "EC5",
          "EC5",
          "EC5",
          "EC5",
          "EC5",
          "EC5",
          "EC5",
          "EC5",
          "EC5",
          "EC5",
          "EC5",
          "EC5",
          "EC5",
          "EC5",
          "EC5",
          "EC5",
          "EC5",
          "EC5",
          "EC5",
          "EC5",
          "EC5",
          "EC5",
          "EC5",
          "EC5",
          "EC5",
          "EC5",
          "EC5",
          "EC5",
          "EC5",
          "EC5",
          "EC5",
          "EC5",
          "EC5",
          "EC5",
          "EC5",
          "EC5",
          "EC5",
          "EC5",
          "EC5",
          "EC5",
          "EC5",
          "EC5",
          "EC5",
          "EC5",
          "EC5",
          "EC5",
          "EC5",
          null,
          null,
          null,
          null,
          null,
          null,
          null,
          null,
          null,
          null,
          null,
          null,
          null,
          null,
          null,
          null,
          null,
          null,
          null,
          null,
          null,
          null,
          null,
          null,
          null,
          null,
          null,
          null,
          null,
          null,
          null,
          null,
          null,
          null,
          null,
          null,
          null,
          null,
          null,
          null,
          null,
          null,
          null,
          null,
          null,
          null,
          null,
          null,
          null,
          null,
          null,
          null,
          null,
          null,
          null,
          null,
          null,
          null,
          null,
          null,
          null,
          null,
          null,
          null,
          null,
          null,
          null,
          null,
          null,
          null,
          null,
          null,
          null,
          null,
          null,
          null,
          null,
          null,
          null,
          null,
          null,
          "EC4",
          "EC4",
          "EC4",
          "EC4",
          "EC4",
          "EC5",
          "EC5",
          "EC5",
          "EC5",
          "EC5",
          "EC5",
          "EC5",
          "EC5",
          "EC5",
          "EC5",
          "EC5",
          "EC5",
          "EC5",
          "EC5",
          "EC5",
          "EC5",
          "EC5",
          "EC5",
          "EC5",
          "EC5",
          "EC5",
          "EC5",
          "EC5",
          "EC5",
          "EC5",
          "EC5",
          "EC5",
          "EC5",
          "EC5",
          "EC5",
          "EC5",
          "EC5",
          "EC5",
          "EC5",
          "EC5",
          null,
          null,
          null,
          null,
          null,
          null,
          null,
          null,
          null,
          null,
          null,
          null,
          null,
          null,
          null,
          null,
          null,
          null,
          null,
          null,
          null,
          null,
          null,
          null,
          null,
          null,
          null,
          null,
          null,
          null,
          null,
          null,
          null,
          null,
          null,
          null,
          null,
          null,
          null,
          null,
          null,
          null,
          "EC13",
          "EC13",
          "EC13",
          "EC13",
          "EC13",
          "EC13",
          "EC13",
          "EC13",
          "EC13",
          null,
          null,
          null,
          null
         ],
         "xaxis": "x",
         "yaxis": "y"
        },
        {
         "alignmentgroup": "True",
         "bingroup": "x",
         "hovertemplate": "variable=5<br>value=%{x}<br>count=%{y}<extra></extra>",
         "legendgroup": "5",
         "marker": {
          "color": "#19d3f3",
          "pattern": {
           "shape": ""
          }
         },
         "name": "5",
         "offsetgroup": "5",
         "orientation": "v",
         "showlegend": true,
         "type": "histogram",
         "x": [
          null,
          null,
          null,
          null,
          null,
          null,
          null,
          null,
          null,
          null,
          null,
          null,
          null,
          null,
          null,
          null,
          null,
          null,
          null,
          null,
          null,
          null,
          null,
          null,
          null,
          null,
          null,
          null,
          null,
          null,
          null,
          null,
          null,
          null,
          null,
          null,
          null,
          null,
          null,
          null,
          null,
          null,
          null,
          null,
          null,
          null,
          null,
          null,
          null,
          null,
          null,
          null,
          null,
          null,
          null,
          null,
          null,
          null,
          null,
          null,
          null,
          null,
          null,
          null,
          null,
          null,
          null,
          null,
          null,
          null,
          null,
          null,
          null,
          null,
          null,
          null,
          null,
          null,
          null,
          null,
          null,
          null,
          null,
          null,
          null,
          null,
          null,
          null,
          null,
          null,
          null,
          null,
          null,
          null,
          null,
          null,
          null,
          null,
          null,
          null,
          null,
          null,
          null,
          null,
          null,
          null,
          null,
          null,
          null,
          null,
          null,
          null,
          null,
          null,
          null,
          null,
          null,
          null,
          null,
          null,
          null,
          null,
          null,
          null,
          null,
          null,
          null,
          null,
          null,
          null,
          null,
          null,
          null,
          null,
          null,
          null,
          null,
          null,
          null,
          null,
          null,
          null,
          null,
          null,
          null,
          null,
          null,
          null,
          null,
          null,
          null,
          null,
          null,
          null,
          null,
          null,
          null,
          null,
          null,
          null,
          null,
          null,
          null,
          null,
          null,
          null,
          null,
          null,
          null,
          null,
          null,
          null,
          null,
          null,
          null,
          null,
          null,
          null,
          null,
          null,
          null,
          null,
          null,
          null,
          null,
          null,
          null,
          null,
          null,
          null,
          null,
          null,
          null,
          null,
          null,
          null,
          null,
          null,
          null,
          null,
          null,
          null,
          null,
          null,
          null,
          null,
          null,
          null,
          null,
          null,
          null,
          null,
          null,
          null,
          null,
          null,
          null,
          null,
          null,
          null,
          null,
          null,
          null,
          null,
          null,
          null,
          null,
          null,
          null,
          null,
          null,
          null,
          null,
          null,
          null,
          null,
          null,
          null,
          null,
          null,
          null,
          null,
          null,
          null,
          null,
          null,
          null,
          null,
          null,
          null,
          null,
          null,
          null,
          null,
          null,
          null,
          null,
          null,
          null,
          null,
          null,
          null,
          null,
          null,
          null,
          null,
          null,
          null,
          null,
          null,
          null,
          null,
          null,
          null,
          null,
          null,
          null,
          null,
          null,
          null,
          null,
          null,
          null,
          null,
          null,
          null,
          null,
          null,
          null,
          null,
          null,
          null,
          null,
          null,
          null,
          null,
          null,
          null,
          null,
          null,
          null,
          null,
          null,
          null,
          null,
          null,
          null,
          null,
          null,
          null,
          null,
          null,
          null,
          null,
          null,
          null,
          null,
          null,
          null,
          null,
          null,
          null,
          null,
          null,
          null,
          null,
          null,
          null,
          null,
          null,
          null,
          null,
          null,
          null,
          null,
          null,
          null,
          null,
          null,
          null,
          null,
          null,
          null,
          null,
          null,
          null,
          null,
          "EC5",
          "EC5",
          "EC5",
          "EC5",
          "EC5",
          null,
          null,
          null,
          null,
          null,
          null,
          null,
          null,
          null,
          null,
          null,
          null,
          null,
          null,
          null,
          null,
          null,
          null,
          null,
          null,
          null,
          null,
          null,
          null,
          null,
          null,
          null,
          null,
          null,
          null,
          null,
          null,
          null,
          null,
          null,
          null,
          null,
          null,
          null,
          null,
          null,
          null,
          null,
          null,
          null,
          null,
          null,
          null,
          null,
          null,
          null,
          null,
          null,
          null,
          null,
          null,
          null,
          null,
          null,
          null,
          null,
          null,
          null,
          null,
          null,
          null,
          null,
          null,
          null,
          null,
          null,
          null,
          null,
          null,
          null,
          null,
          null,
          "EC14",
          "EC14",
          "EC14",
          "EC14",
          "EC14",
          "EC14",
          "EC14",
          "EC14",
          "EC14",
          null,
          null,
          null,
          null
         ],
         "xaxis": "x",
         "yaxis": "y"
        }
       ],
       "layout": {
        "barmode": "relative",
        "legend": {
         "title": {
          "text": "variable"
         },
         "tracegroupgap": 0
        },
        "margin": {
         "t": 60
        },
        "template": {
         "data": {
          "bar": [
           {
            "error_x": {
             "color": "#2a3f5f"
            },
            "error_y": {
             "color": "#2a3f5f"
            },
            "marker": {
             "line": {
              "color": "#E5ECF6",
              "width": 0.5
             },
             "pattern": {
              "fillmode": "overlay",
              "size": 10,
              "solidity": 0.2
             }
            },
            "type": "bar"
           }
          ],
          "barpolar": [
           {
            "marker": {
             "line": {
              "color": "#E5ECF6",
              "width": 0.5
             },
             "pattern": {
              "fillmode": "overlay",
              "size": 10,
              "solidity": 0.2
             }
            },
            "type": "barpolar"
           }
          ],
          "carpet": [
           {
            "aaxis": {
             "endlinecolor": "#2a3f5f",
             "gridcolor": "white",
             "linecolor": "white",
             "minorgridcolor": "white",
             "startlinecolor": "#2a3f5f"
            },
            "baxis": {
             "endlinecolor": "#2a3f5f",
             "gridcolor": "white",
             "linecolor": "white",
             "minorgridcolor": "white",
             "startlinecolor": "#2a3f5f"
            },
            "type": "carpet"
           }
          ],
          "choropleth": [
           {
            "colorbar": {
             "outlinewidth": 0,
             "ticks": ""
            },
            "type": "choropleth"
           }
          ],
          "contour": [
           {
            "colorbar": {
             "outlinewidth": 0,
             "ticks": ""
            },
            "colorscale": [
             [
              0,
              "#0d0887"
             ],
             [
              0.1111111111111111,
              "#46039f"
             ],
             [
              0.2222222222222222,
              "#7201a8"
             ],
             [
              0.3333333333333333,
              "#9c179e"
             ],
             [
              0.4444444444444444,
              "#bd3786"
             ],
             [
              0.5555555555555556,
              "#d8576b"
             ],
             [
              0.6666666666666666,
              "#ed7953"
             ],
             [
              0.7777777777777778,
              "#fb9f3a"
             ],
             [
              0.8888888888888888,
              "#fdca26"
             ],
             [
              1,
              "#f0f921"
             ]
            ],
            "type": "contour"
           }
          ],
          "contourcarpet": [
           {
            "colorbar": {
             "outlinewidth": 0,
             "ticks": ""
            },
            "type": "contourcarpet"
           }
          ],
          "heatmap": [
           {
            "colorbar": {
             "outlinewidth": 0,
             "ticks": ""
            },
            "colorscale": [
             [
              0,
              "#0d0887"
             ],
             [
              0.1111111111111111,
              "#46039f"
             ],
             [
              0.2222222222222222,
              "#7201a8"
             ],
             [
              0.3333333333333333,
              "#9c179e"
             ],
             [
              0.4444444444444444,
              "#bd3786"
             ],
             [
              0.5555555555555556,
              "#d8576b"
             ],
             [
              0.6666666666666666,
              "#ed7953"
             ],
             [
              0.7777777777777778,
              "#fb9f3a"
             ],
             [
              0.8888888888888888,
              "#fdca26"
             ],
             [
              1,
              "#f0f921"
             ]
            ],
            "type": "heatmap"
           }
          ],
          "heatmapgl": [
           {
            "colorbar": {
             "outlinewidth": 0,
             "ticks": ""
            },
            "colorscale": [
             [
              0,
              "#0d0887"
             ],
             [
              0.1111111111111111,
              "#46039f"
             ],
             [
              0.2222222222222222,
              "#7201a8"
             ],
             [
              0.3333333333333333,
              "#9c179e"
             ],
             [
              0.4444444444444444,
              "#bd3786"
             ],
             [
              0.5555555555555556,
              "#d8576b"
             ],
             [
              0.6666666666666666,
              "#ed7953"
             ],
             [
              0.7777777777777778,
              "#fb9f3a"
             ],
             [
              0.8888888888888888,
              "#fdca26"
             ],
             [
              1,
              "#f0f921"
             ]
            ],
            "type": "heatmapgl"
           }
          ],
          "histogram": [
           {
            "marker": {
             "pattern": {
              "fillmode": "overlay",
              "size": 10,
              "solidity": 0.2
             }
            },
            "type": "histogram"
           }
          ],
          "histogram2d": [
           {
            "colorbar": {
             "outlinewidth": 0,
             "ticks": ""
            },
            "colorscale": [
             [
              0,
              "#0d0887"
             ],
             [
              0.1111111111111111,
              "#46039f"
             ],
             [
              0.2222222222222222,
              "#7201a8"
             ],
             [
              0.3333333333333333,
              "#9c179e"
             ],
             [
              0.4444444444444444,
              "#bd3786"
             ],
             [
              0.5555555555555556,
              "#d8576b"
             ],
             [
              0.6666666666666666,
              "#ed7953"
             ],
             [
              0.7777777777777778,
              "#fb9f3a"
             ],
             [
              0.8888888888888888,
              "#fdca26"
             ],
             [
              1,
              "#f0f921"
             ]
            ],
            "type": "histogram2d"
           }
          ],
          "histogram2dcontour": [
           {
            "colorbar": {
             "outlinewidth": 0,
             "ticks": ""
            },
            "colorscale": [
             [
              0,
              "#0d0887"
             ],
             [
              0.1111111111111111,
              "#46039f"
             ],
             [
              0.2222222222222222,
              "#7201a8"
             ],
             [
              0.3333333333333333,
              "#9c179e"
             ],
             [
              0.4444444444444444,
              "#bd3786"
             ],
             [
              0.5555555555555556,
              "#d8576b"
             ],
             [
              0.6666666666666666,
              "#ed7953"
             ],
             [
              0.7777777777777778,
              "#fb9f3a"
             ],
             [
              0.8888888888888888,
              "#fdca26"
             ],
             [
              1,
              "#f0f921"
             ]
            ],
            "type": "histogram2dcontour"
           }
          ],
          "mesh3d": [
           {
            "colorbar": {
             "outlinewidth": 0,
             "ticks": ""
            },
            "type": "mesh3d"
           }
          ],
          "parcoords": [
           {
            "line": {
             "colorbar": {
              "outlinewidth": 0,
              "ticks": ""
             }
            },
            "type": "parcoords"
           }
          ],
          "pie": [
           {
            "automargin": true,
            "type": "pie"
           }
          ],
          "scatter": [
           {
            "fillpattern": {
             "fillmode": "overlay",
             "size": 10,
             "solidity": 0.2
            },
            "type": "scatter"
           }
          ],
          "scatter3d": [
           {
            "line": {
             "colorbar": {
              "outlinewidth": 0,
              "ticks": ""
             }
            },
            "marker": {
             "colorbar": {
              "outlinewidth": 0,
              "ticks": ""
             }
            },
            "type": "scatter3d"
           }
          ],
          "scattercarpet": [
           {
            "marker": {
             "colorbar": {
              "outlinewidth": 0,
              "ticks": ""
             }
            },
            "type": "scattercarpet"
           }
          ],
          "scattergeo": [
           {
            "marker": {
             "colorbar": {
              "outlinewidth": 0,
              "ticks": ""
             }
            },
            "type": "scattergeo"
           }
          ],
          "scattergl": [
           {
            "marker": {
             "colorbar": {
              "outlinewidth": 0,
              "ticks": ""
             }
            },
            "type": "scattergl"
           }
          ],
          "scattermapbox": [
           {
            "marker": {
             "colorbar": {
              "outlinewidth": 0,
              "ticks": ""
             }
            },
            "type": "scattermapbox"
           }
          ],
          "scatterpolar": [
           {
            "marker": {
             "colorbar": {
              "outlinewidth": 0,
              "ticks": ""
             }
            },
            "type": "scatterpolar"
           }
          ],
          "scatterpolargl": [
           {
            "marker": {
             "colorbar": {
              "outlinewidth": 0,
              "ticks": ""
             }
            },
            "type": "scatterpolargl"
           }
          ],
          "scatterternary": [
           {
            "marker": {
             "colorbar": {
              "outlinewidth": 0,
              "ticks": ""
             }
            },
            "type": "scatterternary"
           }
          ],
          "surface": [
           {
            "colorbar": {
             "outlinewidth": 0,
             "ticks": ""
            },
            "colorscale": [
             [
              0,
              "#0d0887"
             ],
             [
              0.1111111111111111,
              "#46039f"
             ],
             [
              0.2222222222222222,
              "#7201a8"
             ],
             [
              0.3333333333333333,
              "#9c179e"
             ],
             [
              0.4444444444444444,
              "#bd3786"
             ],
             [
              0.5555555555555556,
              "#d8576b"
             ],
             [
              0.6666666666666666,
              "#ed7953"
             ],
             [
              0.7777777777777778,
              "#fb9f3a"
             ],
             [
              0.8888888888888888,
              "#fdca26"
             ],
             [
              1,
              "#f0f921"
             ]
            ],
            "type": "surface"
           }
          ],
          "table": [
           {
            "cells": {
             "fill": {
              "color": "#EBF0F8"
             },
             "line": {
              "color": "white"
             }
            },
            "header": {
             "fill": {
              "color": "#C8D4E3"
             },
             "line": {
              "color": "white"
             }
            },
            "type": "table"
           }
          ]
         },
         "layout": {
          "annotationdefaults": {
           "arrowcolor": "#2a3f5f",
           "arrowhead": 0,
           "arrowwidth": 1
          },
          "autotypenumbers": "strict",
          "coloraxis": {
           "colorbar": {
            "outlinewidth": 0,
            "ticks": ""
           }
          },
          "colorscale": {
           "diverging": [
            [
             0,
             "#8e0152"
            ],
            [
             0.1,
             "#c51b7d"
            ],
            [
             0.2,
             "#de77ae"
            ],
            [
             0.3,
             "#f1b6da"
            ],
            [
             0.4,
             "#fde0ef"
            ],
            [
             0.5,
             "#f7f7f7"
            ],
            [
             0.6,
             "#e6f5d0"
            ],
            [
             0.7,
             "#b8e186"
            ],
            [
             0.8,
             "#7fbc41"
            ],
            [
             0.9,
             "#4d9221"
            ],
            [
             1,
             "#276419"
            ]
           ],
           "sequential": [
            [
             0,
             "#0d0887"
            ],
            [
             0.1111111111111111,
             "#46039f"
            ],
            [
             0.2222222222222222,
             "#7201a8"
            ],
            [
             0.3333333333333333,
             "#9c179e"
            ],
            [
             0.4444444444444444,
             "#bd3786"
            ],
            [
             0.5555555555555556,
             "#d8576b"
            ],
            [
             0.6666666666666666,
             "#ed7953"
            ],
            [
             0.7777777777777778,
             "#fb9f3a"
            ],
            [
             0.8888888888888888,
             "#fdca26"
            ],
            [
             1,
             "#f0f921"
            ]
           ],
           "sequentialminus": [
            [
             0,
             "#0d0887"
            ],
            [
             0.1111111111111111,
             "#46039f"
            ],
            [
             0.2222222222222222,
             "#7201a8"
            ],
            [
             0.3333333333333333,
             "#9c179e"
            ],
            [
             0.4444444444444444,
             "#bd3786"
            ],
            [
             0.5555555555555556,
             "#d8576b"
            ],
            [
             0.6666666666666666,
             "#ed7953"
            ],
            [
             0.7777777777777778,
             "#fb9f3a"
            ],
            [
             0.8888888888888888,
             "#fdca26"
            ],
            [
             1,
             "#f0f921"
            ]
           ]
          },
          "colorway": [
           "#636efa",
           "#EF553B",
           "#00cc96",
           "#ab63fa",
           "#FFA15A",
           "#19d3f3",
           "#FF6692",
           "#B6E880",
           "#FF97FF",
           "#FECB52"
          ],
          "font": {
           "color": "#2a3f5f"
          },
          "geo": {
           "bgcolor": "white",
           "lakecolor": "white",
           "landcolor": "#E5ECF6",
           "showlakes": true,
           "showland": true,
           "subunitcolor": "white"
          },
          "hoverlabel": {
           "align": "left"
          },
          "hovermode": "closest",
          "mapbox": {
           "style": "light"
          },
          "paper_bgcolor": "white",
          "plot_bgcolor": "#E5ECF6",
          "polar": {
           "angularaxis": {
            "gridcolor": "white",
            "linecolor": "white",
            "ticks": ""
           },
           "bgcolor": "#E5ECF6",
           "radialaxis": {
            "gridcolor": "white",
            "linecolor": "white",
            "ticks": ""
           }
          },
          "scene": {
           "xaxis": {
            "backgroundcolor": "#E5ECF6",
            "gridcolor": "white",
            "gridwidth": 2,
            "linecolor": "white",
            "showbackground": true,
            "ticks": "",
            "zerolinecolor": "white"
           },
           "yaxis": {
            "backgroundcolor": "#E5ECF6",
            "gridcolor": "white",
            "gridwidth": 2,
            "linecolor": "white",
            "showbackground": true,
            "ticks": "",
            "zerolinecolor": "white"
           },
           "zaxis": {
            "backgroundcolor": "#E5ECF6",
            "gridcolor": "white",
            "gridwidth": 2,
            "linecolor": "white",
            "showbackground": true,
            "ticks": "",
            "zerolinecolor": "white"
           }
          },
          "shapedefaults": {
           "line": {
            "color": "#2a3f5f"
           }
          },
          "ternary": {
           "aaxis": {
            "gridcolor": "white",
            "linecolor": "white",
            "ticks": ""
           },
           "baxis": {
            "gridcolor": "white",
            "linecolor": "white",
            "ticks": ""
           },
           "bgcolor": "#E5ECF6",
           "caxis": {
            "gridcolor": "white",
            "linecolor": "white",
            "ticks": ""
           }
          },
          "title": {
           "x": 0.05
          },
          "xaxis": {
           "automargin": true,
           "gridcolor": "white",
           "linecolor": "white",
           "ticks": "",
           "title": {
            "standoff": 15
           },
           "zerolinecolor": "white",
           "zerolinewidth": 2
          },
          "yaxis": {
           "automargin": true,
           "gridcolor": "white",
           "linecolor": "white",
           "ticks": "",
           "title": {
            "standoff": 15
           },
           "zerolinecolor": "white",
           "zerolinewidth": 2
          }
         }
        },
        "xaxis": {
         "anchor": "y",
         "domain": [
          0,
          1
         ],
         "title": {
          "text": "value"
         }
        },
        "yaxis": {
         "anchor": "x",
         "domain": [
          0,
          1
         ],
         "title": {
          "text": "count"
         }
        }
       }
      }
     },
     "metadata": {},
     "output_type": "display_data"
    }
   ],
   "source": [
    "import numpy as np\n",
    "px.histogram([list(np.unique(list(entry.values()))) for entry in doc_behavior['elepos'].iloc])"
   ]
  },
  {
   "cell_type": "code",
   "execution_count": 70,
   "metadata": {},
   "outputs": [
    {
     "data": {
      "text/html": [
       "<div>\n",
       "<style scoped>\n",
       "    .dataframe tbody tr th:only-of-type {\n",
       "        vertical-align: middle;\n",
       "    }\n",
       "\n",
       "    .dataframe tbody tr th {\n",
       "        vertical-align: top;\n",
       "    }\n",
       "\n",
       "    .dataframe thead th {\n",
       "        text-align: right;\n",
       "    }\n",
       "</style>\n",
       "<table border=\"1\" class=\"dataframe\">\n",
       "  <thead>\n",
       "    <tr style=\"text-align: right;\">\n",
       "      <th></th>\n",
       "      <th>6020</th>\n",
       "      <th>1840</th>\n",
       "      <th>4225</th>\n",
       "      <th>5801</th>\n",
       "      <th>1377</th>\n",
       "    </tr>\n",
       "  </thead>\n",
       "  <tbody>\n",
       "    <tr>\n",
       "      <th>id</th>\n",
       "      <td>6021</td>\n",
       "      <td>1841</td>\n",
       "      <td>4226</td>\n",
       "      <td>5802</td>\n",
       "      <td>1378</td>\n",
       "    </tr>\n",
       "    <tr>\n",
       "      <th>file_ID</th>\n",
       "      <td>88</td>\n",
       "      <td>35</td>\n",
       "      <td>61</td>\n",
       "      <td>83</td>\n",
       "      <td>30</td>\n",
       "    </tr>\n",
       "    <tr>\n",
       "      <th>cell_ID</th>\n",
       "      <td>1</td>\n",
       "      <td>58</td>\n",
       "      <td>76</td>\n",
       "      <td>33</td>\n",
       "      <td>78</td>\n",
       "    </tr>\n",
       "    <tr>\n",
       "      <th>ele</th>\n",
       "      <td>3</td>\n",
       "      <td>6</td>\n",
       "      <td>5</td>\n",
       "      <td>9</td>\n",
       "      <td>7</td>\n",
       "    </tr>\n",
       "    <tr>\n",
       "      <th>clu</th>\n",
       "      <td>2</td>\n",
       "      <td>3</td>\n",
       "      <td>5</td>\n",
       "      <td>5</td>\n",
       "      <td>13</td>\n",
       "    </tr>\n",
       "    <tr>\n",
       "      <th>exciting</th>\n",
       "      <td>0</td>\n",
       "      <td>2</td>\n",
       "      <td>0</td>\n",
       "      <td>0</td>\n",
       "      <td>1</td>\n",
       "    </tr>\n",
       "    <tr>\n",
       "      <th>inhibiting</th>\n",
       "      <td>0</td>\n",
       "      <td>0</td>\n",
       "      <td>0</td>\n",
       "      <td>0</td>\n",
       "      <td>0</td>\n",
       "    </tr>\n",
       "    <tr>\n",
       "      <th>excited</th>\n",
       "      <td>0</td>\n",
       "      <td>1</td>\n",
       "      <td>0</td>\n",
       "      <td>0</td>\n",
       "      <td>0</td>\n",
       "    </tr>\n",
       "    <tr>\n",
       "      <th>inhibited</th>\n",
       "      <td>0</td>\n",
       "      <td>1</td>\n",
       "      <td>0</td>\n",
       "      <td>0</td>\n",
       "      <td>0</td>\n",
       "    </tr>\n",
       "    <tr>\n",
       "      <th>wide</th>\n",
       "      <td>1</td>\n",
       "      <td>1</td>\n",
       "      <td>1</td>\n",
       "      <td>1</td>\n",
       "      <td>1</td>\n",
       "    </tr>\n",
       "    <tr>\n",
       "      <th>narrow</th>\n",
       "      <td>0</td>\n",
       "      <td>0</td>\n",
       "      <td>0</td>\n",
       "      <td>0</td>\n",
       "      <td>0</td>\n",
       "    </tr>\n",
       "    <tr>\n",
       "      <th>IsPositive</th>\n",
       "      <td>0</td>\n",
       "      <td>0</td>\n",
       "      <td>0</td>\n",
       "      <td>0</td>\n",
       "      <td>0</td>\n",
       "    </tr>\n",
       "    <tr>\n",
       "      <th>eDist</th>\n",
       "      <td>15.625558</td>\n",
       "      <td>24.366144</td>\n",
       "      <td>26.24278</td>\n",
       "      <td>22.182517</td>\n",
       "      <td>18.410081</td>\n",
       "    </tr>\n",
       "    <tr>\n",
       "      <th>RefracRatio</th>\n",
       "      <td>0.0</td>\n",
       "      <td>0.340084</td>\n",
       "      <td>0.053948</td>\n",
       "      <td>0.008139</td>\n",
       "      <td>0.11403</td>\n",
       "    </tr>\n",
       "    <tr>\n",
       "      <th>RefracViol</th>\n",
       "      <td>0.0</td>\n",
       "      <td>0.004205</td>\n",
       "      <td>0.001203</td>\n",
       "      <td>0.000281</td>\n",
       "      <td>0.003349</td>\n",
       "    </tr>\n",
       "    <tr>\n",
       "      <th>eDist_ind</th>\n",
       "      <td>15.625558</td>\n",
       "      <td>27.141592</td>\n",
       "      <td>22.505036</td>\n",
       "      <td>19.474756</td>\n",
       "      <td>23.212837</td>\n",
       "    </tr>\n",
       "    <tr>\n",
       "      <th>RefracRatio_ind</th>\n",
       "      <td>0.0</td>\n",
       "      <td>0.128852</td>\n",
       "      <td>0.0</td>\n",
       "      <td>0.0</td>\n",
       "      <td>0.100877</td>\n",
       "    </tr>\n",
       "    <tr>\n",
       "      <th>RefracViol_ind</th>\n",
       "      <td>0.0</td>\n",
       "      <td>0.001193</td>\n",
       "      <td>0.0</td>\n",
       "      <td>0.0</td>\n",
       "      <td>0.001486</td>\n",
       "    </tr>\n",
       "    <tr>\n",
       "      <th>FileID</th>\n",
       "      <td>40054</td>\n",
       "      <td>20040</td>\n",
       "      <td>30028</td>\n",
       "      <td>40049</td>\n",
       "      <td>20035</td>\n",
       "    </tr>\n",
       "    <tr>\n",
       "      <th>RegionID</th>\n",
       "      <td>2</td>\n",
       "      <td>1</td>\n",
       "      <td>1</td>\n",
       "      <td>1</td>\n",
       "      <td>1</td>\n",
       "    </tr>\n",
       "    <tr>\n",
       "      <th>AnimalID</th>\n",
       "      <td>4</td>\n",
       "      <td>2</td>\n",
       "      <td>3</td>\n",
       "      <td>4</td>\n",
       "      <td>2</td>\n",
       "    </tr>\n",
       "    <tr>\n",
       "      <th>FireRate</th>\n",
       "      <td>0.072004</td>\n",
       "      <td>1.100105</td>\n",
       "      <td>0.517995</td>\n",
       "      <td>0.532817</td>\n",
       "      <td>1.422367</td>\n",
       "    </tr>\n",
       "    <tr>\n",
       "      <th>totalFireRate</th>\n",
       "      <td>0.07093</td>\n",
       "      <td>1.100104</td>\n",
       "      <td>0.679227</td>\n",
       "      <td>0.532538</td>\n",
       "      <td>1.377392</td>\n",
       "    </tr>\n",
       "    <tr>\n",
       "      <th>Clean_G</th>\n",
       "      <td>1</td>\n",
       "      <td>1</td>\n",
       "      <td>1</td>\n",
       "      <td>1</td>\n",
       "      <td>1</td>\n",
       "    </tr>\n",
       "    <tr>\n",
       "      <th>Clean_ind</th>\n",
       "      <td>1</td>\n",
       "      <td>1</td>\n",
       "      <td>1</td>\n",
       "      <td>1</td>\n",
       "      <td>1</td>\n",
       "    </tr>\n",
       "    <tr>\n",
       "      <th>COM_15_msec</th>\n",
       "      <td>8.777778</td>\n",
       "      <td>8.452231</td>\n",
       "      <td>8.858662</td>\n",
       "      <td>8.147935</td>\n",
       "      <td>9.208472</td>\n",
       "    </tr>\n",
       "    <tr>\n",
       "      <th>COM_20_msec</th>\n",
       "      <td>11.487179</td>\n",
       "      <td>10.267471</td>\n",
       "      <td>10.592315</td>\n",
       "      <td>9.902315</td>\n",
       "      <td>11.391262</td>\n",
       "    </tr>\n",
       "    <tr>\n",
       "      <th>COM_25_msec</th>\n",
       "      <td>13.760417</td>\n",
       "      <td>11.982901</td>\n",
       "      <td>12.251276</td>\n",
       "      <td>11.490333</td>\n",
       "      <td>13.518669</td>\n",
       "    </tr>\n",
       "    <tr>\n",
       "      <th>COM_30_msec</th>\n",
       "      <td>16.149123</td>\n",
       "      <td>13.494872</td>\n",
       "      <td>13.854523</td>\n",
       "      <td>12.804672</td>\n",
       "      <td>15.585656</td>\n",
       "    </tr>\n",
       "    <tr>\n",
       "      <th>COM_40_msec</th>\n",
       "      <td>17.418033</td>\n",
       "      <td>16.751454</td>\n",
       "      <td>16.947155</td>\n",
       "      <td>15.288277</td>\n",
       "      <td>19.719358</td>\n",
       "    </tr>\n",
       "    <tr>\n",
       "      <th>COM_50_msec</th>\n",
       "      <td>20.702899</td>\n",
       "      <td>19.728099</td>\n",
       "      <td>20.086284</td>\n",
       "      <td>17.679598</td>\n",
       "      <td>23.864446</td>\n",
       "    </tr>\n",
       "    <tr>\n",
       "      <th>Wide_ind_WidthR_AmpSym</th>\n",
       "      <td>1.0</td>\n",
       "      <td>1.0</td>\n",
       "      <td>1.0</td>\n",
       "      <td>1.0</td>\n",
       "      <td>1.0</td>\n",
       "    </tr>\n",
       "    <tr>\n",
       "      <th>Wide_ind_WidthR_COM</th>\n",
       "      <td>1.0</td>\n",
       "      <td>1.0</td>\n",
       "      <td>1.0</td>\n",
       "      <td>1.0</td>\n",
       "      <td>1.0</td>\n",
       "    </tr>\n",
       "    <tr>\n",
       "      <th>Wide_ind_WidthR_totalFireRate</th>\n",
       "      <td>1.0</td>\n",
       "      <td>1.0</td>\n",
       "      <td>1.0</td>\n",
       "      <td>1.0</td>\n",
       "      <td>1.0</td>\n",
       "    </tr>\n",
       "    <tr>\n",
       "      <th>Wide_ind_WidthC100_AmpSym</th>\n",
       "      <td>1.0</td>\n",
       "      <td>1.0</td>\n",
       "      <td>1.0</td>\n",
       "      <td>1.0</td>\n",
       "      <td>1.0</td>\n",
       "    </tr>\n",
       "    <tr>\n",
       "      <th>Narrow_ind_WidthR_AmpSym</th>\n",
       "      <td>0.0</td>\n",
       "      <td>0.0</td>\n",
       "      <td>0.0</td>\n",
       "      <td>0.0</td>\n",
       "      <td>0.0</td>\n",
       "    </tr>\n",
       "    <tr>\n",
       "      <th>Narrow_ind_WidthR_COM</th>\n",
       "      <td>0.0</td>\n",
       "      <td>0.0</td>\n",
       "      <td>0.0</td>\n",
       "      <td>0.0</td>\n",
       "      <td>0.0</td>\n",
       "    </tr>\n",
       "    <tr>\n",
       "      <th>Narrow_ind_WidthR_totalFireRate</th>\n",
       "      <td>0.0</td>\n",
       "      <td>0.0</td>\n",
       "      <td>0.0</td>\n",
       "      <td>0.0</td>\n",
       "      <td>0.0</td>\n",
       "    </tr>\n",
       "    <tr>\n",
       "      <th>Narrow_ind_WidthC100_AmpSym</th>\n",
       "      <td>0.0</td>\n",
       "      <td>0.0</td>\n",
       "      <td>0.0</td>\n",
       "      <td>0.0</td>\n",
       "      <td>0.0</td>\n",
       "    </tr>\n",
       "    <tr>\n",
       "      <th>Wide_visual_correction</th>\n",
       "      <td>0</td>\n",
       "      <td>0</td>\n",
       "      <td>0</td>\n",
       "      <td>0</td>\n",
       "      <td>0</td>\n",
       "    </tr>\n",
       "    <tr>\n",
       "      <th>Narrow_visual_correction</th>\n",
       "      <td>0</td>\n",
       "      <td>0</td>\n",
       "      <td>0</td>\n",
       "      <td>0</td>\n",
       "      <td>0</td>\n",
       "    </tr>\n",
       "    <tr>\n",
       "      <th>Wide_final</th>\n",
       "      <td>1</td>\n",
       "      <td>1</td>\n",
       "      <td>1</td>\n",
       "      <td>1</td>\n",
       "      <td>1</td>\n",
       "    </tr>\n",
       "    <tr>\n",
       "      <th>Narrow_final</th>\n",
       "      <td>0</td>\n",
       "      <td>0</td>\n",
       "      <td>0</td>\n",
       "      <td>0</td>\n",
       "      <td>0</td>\n",
       "    </tr>\n",
       "    <tr>\n",
       "      <th>Big_Which_Region</th>\n",
       "      <td>3</td>\n",
       "      <td>2</td>\n",
       "      <td>2</td>\n",
       "      <td>3</td>\n",
       "      <td>2</td>\n",
       "    </tr>\n",
       "    <tr>\n",
       "      <th>region_x</th>\n",
       "      <td>DG</td>\n",
       "      <td>CA1</td>\n",
       "      <td>CA1</td>\n",
       "      <td>CA3</td>\n",
       "      <td>CA1</td>\n",
       "    </tr>\n",
       "    <tr>\n",
       "      <th>region_y</th>\n",
       "      <td>DG</td>\n",
       "      <td>CA1</td>\n",
       "      <td>CA1</td>\n",
       "      <td>CA3</td>\n",
       "      <td>CA1</td>\n",
       "    </tr>\n",
       "    <tr>\n",
       "      <th>region_id</th>\n",
       "      <td>3</td>\n",
       "      <td>1</td>\n",
       "      <td>1</td>\n",
       "      <td>2</td>\n",
       "      <td>1</td>\n",
       "    </tr>\n",
       "    <tr>\n",
       "      <th>region</th>\n",
       "      <td>DG</td>\n",
       "      <td>CA1</td>\n",
       "      <td>CA1</td>\n",
       "      <td>CA3</td>\n",
       "      <td>CA1</td>\n",
       "    </tr>\n",
       "    <tr>\n",
       "      <th>good</th>\n",
       "      <td>1</td>\n",
       "      <td>1</td>\n",
       "      <td>1</td>\n",
       "      <td>1</td>\n",
       "      <td>1</td>\n",
       "    </tr>\n",
       "    <tr>\n",
       "      <th>pyramidal</th>\n",
       "      <td>1</td>\n",
       "      <td>1</td>\n",
       "      <td>1</td>\n",
       "      <td>1</td>\n",
       "      <td>1</td>\n",
       "    </tr>\n",
       "    <tr>\n",
       "      <th>interneuron</th>\n",
       "      <td>0</td>\n",
       "      <td>0</td>\n",
       "      <td>0</td>\n",
       "      <td>0</td>\n",
       "      <td>0</td>\n",
       "    </tr>\n",
       "    <tr>\n",
       "      <th>nor_pyr_int</th>\n",
       "      <td>0</td>\n",
       "      <td>0</td>\n",
       "      <td>0</td>\n",
       "      <td>0</td>\n",
       "      <td>0</td>\n",
       "    </tr>\n",
       "    <tr>\n",
       "      <th>pyramidal_ccg</th>\n",
       "      <td>0</td>\n",
       "      <td>1</td>\n",
       "      <td>0</td>\n",
       "      <td>0</td>\n",
       "      <td>1</td>\n",
       "    </tr>\n",
       "    <tr>\n",
       "      <th>interneuron_ccg</th>\n",
       "      <td>0</td>\n",
       "      <td>0</td>\n",
       "      <td>0</td>\n",
       "      <td>0</td>\n",
       "      <td>0</td>\n",
       "    </tr>\n",
       "    <tr>\n",
       "      <th>to_remove</th>\n",
       "      <td>0</td>\n",
       "      <td>0</td>\n",
       "      <td>0</td>\n",
       "      <td>0</td>\n",
       "      <td>0</td>\n",
       "    </tr>\n",
       "    <tr>\n",
       "      <th>topdir</th>\n",
       "      <td>ec016.54</td>\n",
       "      <td>ec013.40</td>\n",
       "      <td>ec014.28</td>\n",
       "      <td>ec016.49</td>\n",
       "      <td>ec013.35</td>\n",
       "    </tr>\n",
       "    <tr>\n",
       "      <th>mergen</th>\n",
       "      <td>ec016.934_946</td>\n",
       "      <td>ec013.702_724</td>\n",
       "      <td>ec014.427_456</td>\n",
       "      <td>ec016.835_850</td>\n",
       "      <td>ec013.588_604</td>\n",
       "    </tr>\n",
       "    <tr>\n",
       "      <th>fileid</th>\n",
       "      <td>40054</td>\n",
       "      <td>20040</td>\n",
       "      <td>30028</td>\n",
       "      <td>40049</td>\n",
       "      <td>20035</td>\n",
       "    </tr>\n",
       "  </tbody>\n",
       "</table>\n",
       "</div>"
      ],
      "text/plain": [
       "                                          6020           1840           4225  \\\n",
       "id                                        6021           1841           4226   \n",
       "file_ID                                     88             35             61   \n",
       "cell_ID                                      1             58             76   \n",
       "ele                                          3              6              5   \n",
       "clu                                          2              3              5   \n",
       "exciting                                     0              2              0   \n",
       "inhibiting                                   0              0              0   \n",
       "excited                                      0              1              0   \n",
       "inhibited                                    0              1              0   \n",
       "wide                                         1              1              1   \n",
       "narrow                                       0              0              0   \n",
       "IsPositive                                   0              0              0   \n",
       "eDist                                15.625558      24.366144       26.24278   \n",
       "RefracRatio                                0.0       0.340084       0.053948   \n",
       "RefracViol                                 0.0       0.004205       0.001203   \n",
       "eDist_ind                            15.625558      27.141592      22.505036   \n",
       "RefracRatio_ind                            0.0       0.128852            0.0   \n",
       "RefracViol_ind                             0.0       0.001193            0.0   \n",
       "FileID                                   40054          20040          30028   \n",
       "RegionID                                     2              1              1   \n",
       "AnimalID                                     4              2              3   \n",
       "FireRate                              0.072004       1.100105       0.517995   \n",
       "totalFireRate                          0.07093       1.100104       0.679227   \n",
       "Clean_G                                      1              1              1   \n",
       "Clean_ind                                    1              1              1   \n",
       "COM_15_msec                           8.777778       8.452231       8.858662   \n",
       "COM_20_msec                          11.487179      10.267471      10.592315   \n",
       "COM_25_msec                          13.760417      11.982901      12.251276   \n",
       "COM_30_msec                          16.149123      13.494872      13.854523   \n",
       "COM_40_msec                          17.418033      16.751454      16.947155   \n",
       "COM_50_msec                          20.702899      19.728099      20.086284   \n",
       "Wide_ind_WidthR_AmpSym                     1.0            1.0            1.0   \n",
       "Wide_ind_WidthR_COM                        1.0            1.0            1.0   \n",
       "Wide_ind_WidthR_totalFireRate              1.0            1.0            1.0   \n",
       "Wide_ind_WidthC100_AmpSym                  1.0            1.0            1.0   \n",
       "Narrow_ind_WidthR_AmpSym                   0.0            0.0            0.0   \n",
       "Narrow_ind_WidthR_COM                      0.0            0.0            0.0   \n",
       "Narrow_ind_WidthR_totalFireRate            0.0            0.0            0.0   \n",
       "Narrow_ind_WidthC100_AmpSym                0.0            0.0            0.0   \n",
       "Wide_visual_correction                       0              0              0   \n",
       "Narrow_visual_correction                     0              0              0   \n",
       "Wide_final                                   1              1              1   \n",
       "Narrow_final                                 0              0              0   \n",
       "Big_Which_Region                             3              2              2   \n",
       "region_x                                    DG            CA1            CA1   \n",
       "region_y                                    DG            CA1            CA1   \n",
       "region_id                                    3              1              1   \n",
       "region                                      DG            CA1            CA1   \n",
       "good                                         1              1              1   \n",
       "pyramidal                                    1              1              1   \n",
       "interneuron                                  0              0              0   \n",
       "nor_pyr_int                                  0              0              0   \n",
       "pyramidal_ccg                                0              1              0   \n",
       "interneuron_ccg                              0              0              0   \n",
       "to_remove                                    0              0              0   \n",
       "topdir                                ec016.54       ec013.40       ec014.28   \n",
       "mergen                           ec016.934_946  ec013.702_724  ec014.427_456   \n",
       "fileid                                   40054          20040          30028   \n",
       "\n",
       "                                          5801           1377  \n",
       "id                                        5802           1378  \n",
       "file_ID                                     83             30  \n",
       "cell_ID                                     33             78  \n",
       "ele                                          9              7  \n",
       "clu                                          5             13  \n",
       "exciting                                     0              1  \n",
       "inhibiting                                   0              0  \n",
       "excited                                      0              0  \n",
       "inhibited                                    0              0  \n",
       "wide                                         1              1  \n",
       "narrow                                       0              0  \n",
       "IsPositive                                   0              0  \n",
       "eDist                                22.182517      18.410081  \n",
       "RefracRatio                           0.008139        0.11403  \n",
       "RefracViol                            0.000281       0.003349  \n",
       "eDist_ind                            19.474756      23.212837  \n",
       "RefracRatio_ind                            0.0       0.100877  \n",
       "RefracViol_ind                             0.0       0.001486  \n",
       "FileID                                   40049          20035  \n",
       "RegionID                                     1              1  \n",
       "AnimalID                                     4              2  \n",
       "FireRate                              0.532817       1.422367  \n",
       "totalFireRate                         0.532538       1.377392  \n",
       "Clean_G                                      1              1  \n",
       "Clean_ind                                    1              1  \n",
       "COM_15_msec                           8.147935       9.208472  \n",
       "COM_20_msec                           9.902315      11.391262  \n",
       "COM_25_msec                          11.490333      13.518669  \n",
       "COM_30_msec                          12.804672      15.585656  \n",
       "COM_40_msec                          15.288277      19.719358  \n",
       "COM_50_msec                          17.679598      23.864446  \n",
       "Wide_ind_WidthR_AmpSym                     1.0            1.0  \n",
       "Wide_ind_WidthR_COM                        1.0            1.0  \n",
       "Wide_ind_WidthR_totalFireRate              1.0            1.0  \n",
       "Wide_ind_WidthC100_AmpSym                  1.0            1.0  \n",
       "Narrow_ind_WidthR_AmpSym                   0.0            0.0  \n",
       "Narrow_ind_WidthR_COM                      0.0            0.0  \n",
       "Narrow_ind_WidthR_totalFireRate            0.0            0.0  \n",
       "Narrow_ind_WidthC100_AmpSym                0.0            0.0  \n",
       "Wide_visual_correction                       0              0  \n",
       "Narrow_visual_correction                     0              0  \n",
       "Wide_final                                   1              1  \n",
       "Narrow_final                                 0              0  \n",
       "Big_Which_Region                             3              2  \n",
       "region_x                                   CA3            CA1  \n",
       "region_y                                   CA3            CA1  \n",
       "region_id                                    2              1  \n",
       "region                                     CA3            CA1  \n",
       "good                                         1              1  \n",
       "pyramidal                                    1              1  \n",
       "interneuron                                  0              0  \n",
       "nor_pyr_int                                  0              0  \n",
       "pyramidal_ccg                                0              1  \n",
       "interneuron_ccg                              0              0  \n",
       "to_remove                                    0              0  \n",
       "topdir                                ec016.49       ec013.35  \n",
       "mergen                           ec016.835_850  ec013.588_604  \n",
       "fileid                                   40049          20035  "
      ]
     },
     "execution_count": 70,
     "metadata": {},
     "output_type": "execute_result"
    }
   ],
   "source": [
    "doc_ephys.sample(5).T"
   ]
  },
  {
   "cell_type": "code",
   "execution_count": 285,
   "metadata": {},
   "outputs": [
    {
     "name": "stdout",
     "output_type": "stream",
     "text": [
      "68\n"
     ]
    },
    {
     "ename": "ValueError",
     "evalue": "Must have equal len keys and value when setting with an iterable",
     "output_type": "error",
     "traceback": [
      "\u001b[0;31m---------------------------------------------------------------------------\u001b[0m",
      "\u001b[0;31mValueError\u001b[0m                                Traceback (most recent call last)",
      "Cell \u001b[0;32mIn[285], line 3\u001b[0m\n\u001b[1;32m      1\u001b[0m \u001b[38;5;28;01mfor\u001b[39;00m g,group \u001b[38;5;129;01min\u001b[39;00m doc_behavior\u001b[38;5;241m.\u001b[39mgroupby(\u001b[38;5;124m'\u001b[39m\u001b[38;5;124mmergen\u001b[39m\u001b[38;5;124m'\u001b[39m):\n\u001b[1;32m      2\u001b[0m     \u001b[38;5;28mprint\u001b[39m(np\u001b[38;5;241m.\u001b[39msum((doc_ephys[\u001b[38;5;124m'\u001b[39m\u001b[38;5;124mmergen\u001b[39m\u001b[38;5;124m'\u001b[39m] \u001b[38;5;241m==\u001b[39m g)))\n\u001b[0;32m----> 3\u001b[0m     \u001b[43mdoc_ephys\u001b[49m\u001b[38;5;241;43m.\u001b[39;49m\u001b[43mloc\u001b[49m\u001b[43m[\u001b[49m\u001b[43mdoc_ephys\u001b[49m\u001b[43m[\u001b[49m\u001b[38;5;124;43m'\u001b[39;49m\u001b[38;5;124;43mmergen\u001b[39;49m\u001b[38;5;124;43m'\u001b[39;49m\u001b[43m]\u001b[49m\u001b[43m \u001b[49m\u001b[38;5;241;43m==\u001b[39;49m\u001b[43m \u001b[49m\u001b[43mg\u001b[49m\u001b[43m \u001b[49m\u001b[43m,\u001b[49m\u001b[43m \u001b[49m\u001b[38;5;124;43m'\u001b[39;49m\u001b[38;5;124;43mbehaviors\u001b[39;49m\u001b[38;5;124;43m'\u001b[39;49m\u001b[43m]\u001b[49m \u001b[38;5;241m=\u001b[39m \u001b[38;5;28mlist\u001b[39m(group[\u001b[38;5;124m'\u001b[39m\u001b[38;5;124mbehavior\u001b[39m\u001b[38;5;124m'\u001b[39m]\u001b[38;5;241m.\u001b[39mvalues)\n\u001b[1;32m      4\u001b[0m     doc_ephys\u001b[38;5;241m.\u001b[39mloc[doc_ephys[\u001b[38;5;124m'\u001b[39m\u001b[38;5;124mmergen\u001b[39m\u001b[38;5;124m'\u001b[39m] \u001b[38;5;241m==\u001b[39m g , \u001b[38;5;124m'\u001b[39m\u001b[38;5;124msessions\u001b[39m\u001b[38;5;124m'\u001b[39m] \u001b[38;5;241m=\u001b[39m \u001b[38;5;28mlist\u001b[39m(group[\u001b[38;5;124m'\u001b[39m\u001b[38;5;124msession\u001b[39m\u001b[38;5;124m'\u001b[39m]\u001b[38;5;241m.\u001b[39mvalues)\n\u001b[1;32m      5\u001b[0m     doc_ephys\u001b[38;5;241m.\u001b[39mloc[doc_ephys[\u001b[38;5;124m'\u001b[39m\u001b[38;5;124mmergen\u001b[39m\u001b[38;5;124m'\u001b[39m] \u001b[38;5;241m==\u001b[39m g , \u001b[38;5;124m'\u001b[39m\u001b[38;5;124manimal\u001b[39m\u001b[38;5;124m'\u001b[39m] \u001b[38;5;241m=\u001b[39m group[\u001b[38;5;124m'\u001b[39m\u001b[38;5;124manimal\u001b[39m\u001b[38;5;124m'\u001b[39m]\u001b[38;5;241m.\u001b[39munique()[\u001b[38;5;241m0\u001b[39m]\n",
      "File \u001b[0;32m~/miniconda3/lib/python3.11/site-packages/pandas/core/indexing.py:885\u001b[0m, in \u001b[0;36m_LocationIndexer.__setitem__\u001b[0;34m(self, key, value)\u001b[0m\n\u001b[1;32m    882\u001b[0m \u001b[38;5;28mself\u001b[39m\u001b[38;5;241m.\u001b[39m_has_valid_setitem_indexer(key)\n\u001b[1;32m    884\u001b[0m iloc \u001b[38;5;241m=\u001b[39m \u001b[38;5;28mself\u001b[39m \u001b[38;5;28;01mif\u001b[39;00m \u001b[38;5;28mself\u001b[39m\u001b[38;5;241m.\u001b[39mname \u001b[38;5;241m==\u001b[39m \u001b[38;5;124m\"\u001b[39m\u001b[38;5;124miloc\u001b[39m\u001b[38;5;124m\"\u001b[39m \u001b[38;5;28;01melse\u001b[39;00m \u001b[38;5;28mself\u001b[39m\u001b[38;5;241m.\u001b[39mobj\u001b[38;5;241m.\u001b[39miloc\n\u001b[0;32m--> 885\u001b[0m \u001b[43miloc\u001b[49m\u001b[38;5;241;43m.\u001b[39;49m\u001b[43m_setitem_with_indexer\u001b[49m\u001b[43m(\u001b[49m\u001b[43mindexer\u001b[49m\u001b[43m,\u001b[49m\u001b[43m \u001b[49m\u001b[43mvalue\u001b[49m\u001b[43m,\u001b[49m\u001b[43m \u001b[49m\u001b[38;5;28;43mself\u001b[39;49m\u001b[38;5;241;43m.\u001b[39;49m\u001b[43mname\u001b[49m\u001b[43m)\u001b[49m\n",
      "File \u001b[0;32m~/miniconda3/lib/python3.11/site-packages/pandas/core/indexing.py:1893\u001b[0m, in \u001b[0;36m_iLocIndexer._setitem_with_indexer\u001b[0;34m(self, indexer, value, name)\u001b[0m\n\u001b[1;32m   1890\u001b[0m \u001b[38;5;66;03m# align and set the values\u001b[39;00m\n\u001b[1;32m   1891\u001b[0m \u001b[38;5;28;01mif\u001b[39;00m take_split_path:\n\u001b[1;32m   1892\u001b[0m     \u001b[38;5;66;03m# We have to operate column-wise\u001b[39;00m\n\u001b[0;32m-> 1893\u001b[0m     \u001b[38;5;28;43mself\u001b[39;49m\u001b[38;5;241;43m.\u001b[39;49m\u001b[43m_setitem_with_indexer_split_path\u001b[49m\u001b[43m(\u001b[49m\u001b[43mindexer\u001b[49m\u001b[43m,\u001b[49m\u001b[43m \u001b[49m\u001b[43mvalue\u001b[49m\u001b[43m,\u001b[49m\u001b[43m \u001b[49m\u001b[43mname\u001b[49m\u001b[43m)\u001b[49m\n\u001b[1;32m   1894\u001b[0m \u001b[38;5;28;01melse\u001b[39;00m:\n\u001b[1;32m   1895\u001b[0m     \u001b[38;5;28mself\u001b[39m\u001b[38;5;241m.\u001b[39m_setitem_single_block(indexer, value, name)\n",
      "File \u001b[0;32m~/miniconda3/lib/python3.11/site-packages/pandas/core/indexing.py:1949\u001b[0m, in \u001b[0;36m_iLocIndexer._setitem_with_indexer_split_path\u001b[0;34m(self, indexer, value, name)\u001b[0m\n\u001b[1;32m   1944\u001b[0m     \u001b[38;5;28;01mif\u001b[39;00m \u001b[38;5;28mlen\u001b[39m(value) \u001b[38;5;241m==\u001b[39m \u001b[38;5;241m1\u001b[39m \u001b[38;5;129;01mand\u001b[39;00m \u001b[38;5;129;01mnot\u001b[39;00m is_integer(info_axis):\n\u001b[1;32m   1945\u001b[0m         \u001b[38;5;66;03m# This is a case like df.iloc[:3, [1]] = [0]\u001b[39;00m\n\u001b[1;32m   1946\u001b[0m         \u001b[38;5;66;03m#  where we treat as df.iloc[:3, 1] = 0\u001b[39;00m\n\u001b[1;32m   1947\u001b[0m         \u001b[38;5;28;01mreturn\u001b[39;00m \u001b[38;5;28mself\u001b[39m\u001b[38;5;241m.\u001b[39m_setitem_with_indexer((pi, info_axis[\u001b[38;5;241m0\u001b[39m]), value[\u001b[38;5;241m0\u001b[39m])\n\u001b[0;32m-> 1949\u001b[0m     \u001b[38;5;28;01mraise\u001b[39;00m \u001b[38;5;167;01mValueError\u001b[39;00m(\n\u001b[1;32m   1950\u001b[0m         \u001b[38;5;124m\"\u001b[39m\u001b[38;5;124mMust have equal len keys and value \u001b[39m\u001b[38;5;124m\"\u001b[39m\n\u001b[1;32m   1951\u001b[0m         \u001b[38;5;124m\"\u001b[39m\u001b[38;5;124mwhen setting with an iterable\u001b[39m\u001b[38;5;124m\"\u001b[39m\n\u001b[1;32m   1952\u001b[0m     )\n\u001b[1;32m   1954\u001b[0m \u001b[38;5;28;01melif\u001b[39;00m lplane_indexer \u001b[38;5;241m==\u001b[39m \u001b[38;5;241m0\u001b[39m \u001b[38;5;129;01mand\u001b[39;00m \u001b[38;5;28mlen\u001b[39m(value) \u001b[38;5;241m==\u001b[39m \u001b[38;5;28mlen\u001b[39m(\u001b[38;5;28mself\u001b[39m\u001b[38;5;241m.\u001b[39mobj\u001b[38;5;241m.\u001b[39mindex):\n\u001b[1;32m   1955\u001b[0m     \u001b[38;5;66;03m# We get here in one case via .loc with a all-False mask\u001b[39;00m\n\u001b[1;32m   1956\u001b[0m     \u001b[38;5;28;01mpass\u001b[39;00m\n",
      "\u001b[0;31mValueError\u001b[0m: Must have equal len keys and value when setting with an iterable"
     ]
    }
   ],
   "source": []
  },
  {
   "cell_type": "code",
   "execution_count": 280,
   "metadata": {},
   "outputs": [
    {
     "data": {
      "text/plain": [
       "['11-04_22-31-40', '11-05_0-06-51', '11-05_0-24-7']"
      ]
     },
     "execution_count": 280,
     "metadata": {},
     "output_type": "execute_result"
    }
   ],
   "source": []
  },
  {
   "cell_type": "code",
   "execution_count": 270,
   "metadata": {},
   "outputs": [
    {
     "data": {
      "text/html": [
       "<div>\n",
       "<style scoped>\n",
       "    .dataframe tbody tr th:only-of-type {\n",
       "        vertical-align: middle;\n",
       "    }\n",
       "\n",
       "    .dataframe tbody tr th {\n",
       "        vertical-align: top;\n",
       "    }\n",
       "\n",
       "    .dataframe thead th {\n",
       "        text-align: right;\n",
       "    }\n",
       "</style>\n",
       "<table border=\"1\" class=\"dataframe\">\n",
       "  <thead>\n",
       "    <tr style=\"text-align: right;\">\n",
       "      <th></th>\n",
       "      <th>2307</th>\n",
       "      <th>5865</th>\n",
       "      <th>7141</th>\n",
       "      <th>7052</th>\n",
       "      <th>5189</th>\n",
       "    </tr>\n",
       "  </thead>\n",
       "  <tbody>\n",
       "    <tr>\n",
       "      <th>id</th>\n",
       "      <td>2308</td>\n",
       "      <td>5866</td>\n",
       "      <td>7142</td>\n",
       "      <td>7053</td>\n",
       "      <td>5190</td>\n",
       "    </tr>\n",
       "    <tr>\n",
       "      <th>file_ID</th>\n",
       "      <td>40</td>\n",
       "      <td>85</td>\n",
       "      <td>103</td>\n",
       "      <td>101</td>\n",
       "      <td>72</td>\n",
       "    </tr>\n",
       "    <tr>\n",
       "      <th>cell_ID</th>\n",
       "      <td>46</td>\n",
       "      <td>7</td>\n",
       "      <td>39</td>\n",
       "      <td>73</td>\n",
       "      <td>33</td>\n",
       "    </tr>\n",
       "    <tr>\n",
       "      <th>ele</th>\n",
       "      <td>3</td>\n",
       "      <td>4</td>\n",
       "      <td>5</td>\n",
       "      <td>12</td>\n",
       "      <td>4</td>\n",
       "    </tr>\n",
       "    <tr>\n",
       "      <th>clu</th>\n",
       "      <td>3</td>\n",
       "      <td>5</td>\n",
       "      <td>6</td>\n",
       "      <td>2</td>\n",
       "      <td>2</td>\n",
       "    </tr>\n",
       "    <tr>\n",
       "      <th>...</th>\n",
       "      <td>...</td>\n",
       "      <td>...</td>\n",
       "      <td>...</td>\n",
       "      <td>...</td>\n",
       "      <td>...</td>\n",
       "    </tr>\n",
       "    <tr>\n",
       "      <th>mergen</th>\n",
       "      <td>ec013.793_814</td>\n",
       "      <td>ec016.871_889</td>\n",
       "      <td>ec014.716_742</td>\n",
       "      <td>ec014.254_269</td>\n",
       "      <td>ec016.491_508</td>\n",
       "    </tr>\n",
       "    <tr>\n",
       "      <th>fileid</th>\n",
       "      <td>20045</td>\n",
       "      <td>40051</td>\n",
       "      <td>30039</td>\n",
       "      <td>30020</td>\n",
       "      <td>40031</td>\n",
       "    </tr>\n",
       "    <tr>\n",
       "      <th>behaviors</th>\n",
       "      <td>NaN</td>\n",
       "      <td>NaN</td>\n",
       "      <td>NaN</td>\n",
       "      <td>NaN</td>\n",
       "      <td>NaN</td>\n",
       "    </tr>\n",
       "    <tr>\n",
       "      <th>sessions</th>\n",
       "      <td>NaN</td>\n",
       "      <td>NaN</td>\n",
       "      <td>NaN</td>\n",
       "      <td>NaN</td>\n",
       "      <td>NaN</td>\n",
       "    </tr>\n",
       "    <tr>\n",
       "      <th>animal</th>\n",
       "      <td>NaN</td>\n",
       "      <td>NaN</td>\n",
       "      <td>NaN</td>\n",
       "      <td>NaN</td>\n",
       "      <td>NaN</td>\n",
       "    </tr>\n",
       "  </tbody>\n",
       "</table>\n",
       "<p>61 rows × 5 columns</p>\n",
       "</div>"
      ],
      "text/plain": [
       "                    2307           5865           7141           7052  \\\n",
       "id                  2308           5866           7142           7053   \n",
       "file_ID               40             85            103            101   \n",
       "cell_ID               46              7             39             73   \n",
       "ele                    3              4              5             12   \n",
       "clu                    3              5              6              2   \n",
       "...                  ...            ...            ...            ...   \n",
       "mergen     ec013.793_814  ec016.871_889  ec014.716_742  ec014.254_269   \n",
       "fileid             20045          40051          30039          30020   \n",
       "behaviors            NaN            NaN            NaN            NaN   \n",
       "sessions             NaN            NaN            NaN            NaN   \n",
       "animal               NaN            NaN            NaN            NaN   \n",
       "\n",
       "                    5189  \n",
       "id                  5190  \n",
       "file_ID               72  \n",
       "cell_ID               33  \n",
       "ele                    4  \n",
       "clu                    2  \n",
       "...                  ...  \n",
       "mergen     ec016.491_508  \n",
       "fileid             40031  \n",
       "behaviors            NaN  \n",
       "sessions             NaN  \n",
       "animal               NaN  \n",
       "\n",
       "[61 rows x 5 columns]"
      ]
     },
     "execution_count": 270,
     "metadata": {},
     "output_type": "execute_result"
    }
   ],
   "source": [
    "doc_ephys.sample(5).T"
   ]
  },
  {
   "cell_type": "code",
   "execution_count": null,
   "metadata": {},
   "outputs": [],
   "source": []
  }
 ],
 "metadata": {
  "kernelspec": {
   "display_name": "base",
   "language": "python",
   "name": "python3"
  },
  "language_info": {
   "codemirror_mode": {
    "name": "ipython",
    "version": 3
   },
   "file_extension": ".py",
   "mimetype": "text/x-python",
   "name": "python",
   "nbconvert_exporter": "python",
   "pygments_lexer": "ipython3",
   "version": "3.11.5"
  }
 },
 "nbformat": 4,
 "nbformat_minor": 2
}
